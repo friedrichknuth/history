{
 "cells": [
  {
   "cell_type": "markdown",
   "id": "35bc6413",
   "metadata": {},
   "source": [
    "# Post Processing\n",
    "\n",
    "This notebook run some post processing on result point cloud. \n",
    "1. Convert point cloud to DEM with `point2dem` command from ASP.\n",
    "2. Coregister with reference DEMs.\n",
    "3. Compute difference between coregistered DEMs and references DEMs.\n",
    "4. Compute some statistics of this difference."
   ]
  },
  {
   "cell_type": "code",
   "execution_count": 1,
   "id": "69a34dc4",
   "metadata": {},
   "outputs": [],
   "source": [
    "%load_ext autoreload\n",
    "%autoreload 2"
   ]
  },
  {
   "cell_type": "code",
   "execution_count": 2,
   "id": "4e9e9a32",
   "metadata": {},
   "outputs": [
    {
     "name": "stderr",
     "output_type": "stream",
     "text": [
      "/workdir/cryodyn/dehecqa/bin/miniforge3/envs/history/lib/python3.11/site-packages/tqdm/auto.py:21: TqdmWarning: IProgress not found. Please update jupyter and ipywidgets. See https://ipywidgets.readthedocs.io/en/stable/user_install.html\n",
      "  from .autonotebook import tqdm as notebook_tqdm\n"
     ]
    }
   ],
   "source": [
    "import os\n",
    "import sys\n",
    "import history"
   ]
  },
  {
   "cell_type": "markdown",
   "id": "22df8f07",
   "metadata": {},
   "source": [
    "# Settings"
   ]
  },
  {
   "cell_type": "code",
   "execution_count": 11,
   "id": "42fd7991",
   "metadata": {},
   "outputs": [],
   "source": [
    "# contain the .las or .laz files\n",
    "POINTCLOUD_DIRECTORY = \"/mnt/summer/USERS/DEHECQA/history/output/test_data\"\n",
    "\n",
    "# Directory where put DEMs after point2dem command\n",
    "RAW_DEM_DIRECTORY = \"/mnt/summer/USERS/DEHECQA/history/output/test_data/dems\"\n",
    "\n",
    "# Directory of coregistered DEMs\n",
    "COREGISTERED_DEM_DIRECTORY = \"/mnt/summer/USERS/DEHECQA/history/output/test_data/coregistered_dems\"\n",
    "\n",
    "# Directory of diference beetween ref DEMs and coregistered DEMs\n",
    "DDEMS_DIRECTORY = \"/mnt/summer/USERS/DEHECQA/history/output/test_data/ddems\"\n",
    "\n",
    "# dictionnary of all references DEMs (some value can be set to None depend on site and dataset)\n",
    "REF_DEMS = {\n",
    "    \"casagrande_ref_dem_zoom\" : \"/mnt/summer/USERS/DEHECQA/history/data_final/casa_grande/aux_data/reference_dem_zoom.tif\",\n",
    "    \"casagrande_ref_dem_large\" : None,\n",
    "    \"iceland_ref_dem_zoom\" : None,\n",
    "    \"iceland_ref_dem_large\" : None\n",
    "}\n",
    "\n",
    "# dictionnary of all references DEMs masks (some value can be set to None depend on site and dataset)\n",
    "REF_DEM_MASKS = {\n",
    "    \"casagrande_ref_dem_zoom_mask\" : \"/mnt/summer/USERS/DEHECQA/history/data_final/casa_grande/aux_data/reference_dem_zoom_mask.tif\",\n",
    "    \"casagrande_ref_dem_large_mask\" : None,\n",
    "    \"iceland_ref_dem_zoom_mask\" : None,\n",
    "    \"iceland_ref_dem_large_mask\" : None\n",
    "}\n",
    "\n",
    "OVERWRITE = False\n",
    "\n",
    "# set this to True to avoid process\n",
    "DRY_RUN = False\n",
    "\n",
    "MAX_WORKERS = 4"
   ]
  },
  {
   "cell_type": "markdown",
   "id": "f49fdc01",
   "metadata": {},
   "source": [
    "## Converting cloud point to DEM\n",
    "\n",
    "Batch process point cloud files in a directory to generate DEMs aligned with reference DEMs.\n",
    "\n",
    "This function iterates over all point cloud files (*.las or *.laz) in `input_directory`,\n",
    "selects the appropriate reference DEM based on site and dataset extracted from filenames,\n",
    "and calls `point2dem` to create coregistered DEMs saved in `output_directory`.\n",
    "\n",
    "The `max_workers` arg set a process for each point2dem command so for one file it's useless"
   ]
  },
  {
   "cell_type": "markdown",
   "id": "d8bdb99e",
   "metadata": {},
   "source": [
    "Different attempts to add ASP to path, without success..."
   ]
  },
  {
   "cell_type": "code",
   "execution_count": 8,
   "id": "d8ae4ab8",
   "metadata": {},
   "outputs": [],
   "source": [
    "# !module load stereo3.5.0\n",
    "# !export PATH=$PATH:/workdir2/cryodyn/dehecqa/bin/StereoPipeline-3.5.0-alpha-2025-02-18-x86_64-Linux/bin/\n",
    "# !point2dem -h\n",
    "# !echo $PATH"
   ]
  },
  {
   "cell_type": "code",
   "execution_count": 9,
   "id": "7cdf7068",
   "metadata": {},
   "outputs": [],
   "source": [
    "# import subprocess\n",
    "# subprocess.run(\"export PATH=$PATH:/workdir2/cryodyn/dehecqa/bin/StereoPipeline-3.5.0-alpha-2025-02-18-x86_64-Linux/bin/\", shell=True, check=True)\n",
    "# subprocess.run(\"echo $PATH\", shell=True, check=True)"
   ]
  },
  {
   "cell_type": "code",
   "execution_count": 12,
   "id": "69352a0b",
   "metadata": {},
   "outputs": [
    {
     "name": "stdout",
     "output_type": "stream",
     "text": [
      "Skip ASPY_CG_MC_PP_CN_GN_PN_MN_dense_pointcloud.laz : No reference DEM provided (site: CG, dataset: MC).\n",
      "Skip ESM_IL_AI_PP_CN_GY_PN_MN_dense_pointcloud.laz : No reference DEM provided (site: IL, dataset: AI).\n",
      "Skip ESM_IL_AI_RA_CN_GY_PN_MN_dense_pointcloud.laz : No reference DEM provided (site: IL, dataset: AI).\n",
      "Skip ESM_IL_AI_RA_CY_GY_PN_MN_dense_pointcloud.laz : No reference DEM provided (site: IL, dataset: AI).\n",
      "Skip TUW_IL_AI_PP_CN_GN_PN_MN_dense_pointcloud.laz : No reference DEM provided (site: IL, dataset: AI).\n",
      "Skip HSfM_IL_AI_PP_CY_GY_PN_MN_dense_pointcloud.laz : No reference DEM provided (site: IL, dataset: AI).\n"
     ]
    },
    {
     "name": "stderr",
     "output_type": "stream",
     "text": [
      "Converting into DEM:  30%|███       | 3/10 [36:24<1:20:20, 688.66s/File] "
     ]
    },
    {
     "name": "stdout",
     "output_type": "stream",
     "text": [
      "[!] Error: Command '/workdir2/cryodyn/dehecqa/bin/StereoPipeline-3.5.0-alpha-2025-02-18-x86_64-Linux/bin/point2dem --t_srs \"+proj=utm +zone=12 +datum=NAD83 +units=m +no_defs=True\" --tr 1.0 --t_projwin 413999.9999714241 3613020.0000490383 443999.9999714241 3650006.0000490383 --threads 1 --datum WGS84  /mnt/summer/USERS/DEHECQA/history/output/test_data/fdahle_CG_AI_PP_CN_GY_PN_MN_dense_pointcloud.laz -o /mnt/summer/USERS/DEHECQA/history/output/test_data/dems/fdahle_CG_AI_PP_CN_GY_PN_MN_dense' returned non-zero exit status 1.\n"
     ]
    },
    {
     "name": "stderr",
     "output_type": "stream",
     "text": [
      "Converting into DEM:  40%|████      | 4/10 [36:25<41:43, 417.23s/File]  "
     ]
    },
    {
     "name": "stdout",
     "output_type": "stream",
     "text": [
      "[!] Error: Command '/workdir2/cryodyn/dehecqa/bin/StereoPipeline-3.5.0-alpha-2025-02-18-x86_64-Linux/bin/point2dem --t_srs \"+proj=utm +zone=12 +datum=NAD83 +units=m +no_defs=True\" --tr 1.0 --t_projwin 413999.9999714241 3613020.0000490383 443999.9999714241 3650006.0000490383 --threads 1 --datum WGS84  /mnt/summer/USERS/DEHECQA/history/output/test_data/fdahle_CG_AI_PP_CY_GN_PN_MN_dense_pointcloud.laz -o /mnt/summer/USERS/DEHECQA/history/output/test_data/dems/fdahle_CG_AI_PP_CY_GN_PN_MN_dense' returned non-zero exit status 1.\n"
     ]
    },
    {
     "name": "stderr",
     "output_type": "stream",
     "text": [
      "Converting into DEM:  50%|█████     | 5/10 [36:27<22:17, 267.41s/File]"
     ]
    },
    {
     "name": "stdout",
     "output_type": "stream",
     "text": [
      "[!] Error: Command '/workdir2/cryodyn/dehecqa/bin/StereoPipeline-3.5.0-alpha-2025-02-18-x86_64-Linux/bin/point2dem --t_srs \"+proj=utm +zone=12 +datum=NAD83 +units=m +no_defs=True\" --tr 1.0 --t_projwin 413999.9999714241 3613020.0000490383 443999.9999714241 3650006.0000490383 --threads 1 --datum WGS84  /mnt/summer/USERS/DEHECQA/history/output/test_data/fdahle_CG_AI_PP_CY_GY_PN_MN_dense_pointcloud.laz -o /mnt/summer/USERS/DEHECQA/history/output/test_data/dems/fdahle_CG_AI_PP_CY_GY_PN_MN_dense' returned non-zero exit status 1.\n"
     ]
    },
    {
     "name": "stderr",
     "output_type": "stream",
     "text": [
      "Converting into DEM:  60%|██████    | 6/10 [36:28<11:48, 177.00s/File]"
     ]
    },
    {
     "name": "stdout",
     "output_type": "stream",
     "text": [
      "[!] Error: Command '/workdir2/cryodyn/dehecqa/bin/StereoPipeline-3.5.0-alpha-2025-02-18-x86_64-Linux/bin/point2dem --t_srs \"+proj=utm +zone=12 +datum=NAD83 +units=m +no_defs=True\" --tr 1.0 --t_projwin 413999.9999714241 3613020.0000490383 443999.9999714241 3650006.0000490383 --threads 1 --datum WGS84  /mnt/summer/USERS/DEHECQA/history/output/test_data/TUW_CG_AI_PP_CN_GN_PN_MN_dense_pointcloud.laz -o /mnt/summer/USERS/DEHECQA/history/output/test_data/dems/TUW_CG_AI_PP_CN_GN_PN_MN_dense' returned non-zero exit status 1.\n"
     ]
    },
    {
     "name": "stderr",
     "output_type": "stream",
     "text": [
      "Converting into DEM: 100%|██████████| 10/10 [1:15:35<00:00, 453.54s/File]\n"
     ]
    }
   ],
   "source": [
    "history.postprocessing.iter_point2dem(POINTCLOUD_DIRECTORY, RAW_DEM_DIRECTORY, **REF_DEMS, overwrite=OVERWRITE, dry_run=DRY_RUN, max_workers=MAX_WORKERS, asp_path=\"/workdir2/cryodyn/dehecqa/bin/StereoPipeline-3.5.0-alpha-2025-02-18-x86_64-Linux/bin/\")"
   ]
  },
  {
   "cell_type": "markdown",
   "id": "dfa653c3",
   "metadata": {},
   "source": [
    "## Coregister DEMs\n",
    "\n",
    "Coregister multiple DEMs in a directory to appropriate reference DEMs and return summary statistics.\n",
    "\n",
    "This function iterates over all DEM files in `input_directory` ending with '-DEM.tif', \n",
    "selects the appropriate reference DEM and mask based on the site and dataset information,\n",
    "and applies coregistration using the `coregister_dem` function. \n",
    "\n",
    "Coregistered DEMs are saved to `output_directory`. If `overwrite` is False, existing output files are skipped.\n",
    "If `dry_run` is True, no coregistration is performed, only file names and planned operations are printed."
   ]
  },
  {
   "cell_type": "code",
   "execution_count": null,
   "id": "5fea58ff",
   "metadata": {},
   "outputs": [
    {
     "name": "stdout",
     "output_type": "stream",
     "text": [
      "coregister_dem(/mnt/summer/USERS/DEHECQA/history/output/test_data/dems/HSfM_CG_AI_PP_CY_GY_PY_MN_dense-DEM.tif, /mnt/summer/USERS/DEHECQA/history/data_final/casa_grande/aux_data/reference_dem_zoom.tif, /mnt/summer/USERS/DEHECQA/history/data_final/casa_grande/aux_data/reference_dem_zoom_mask.tif, /mnt/summer/USERS/DEHECQA/history/output/test_data/coregistered_dems/HSfM_CG_AI_PP_CY_GY_PY_MN_dense-DEM.tif)\n"
     ]
    }
   ],
   "source": [
    "result_df = history.postprocessing.iter_coregister_dems(\n",
    "    RAW_DEM_DIRECTORY, COREGISTERED_DEM_DIRECTORY, \n",
    "    **REF_DEMS, **REF_DEM_MASKS, overwrite=OVERWRITE, dry_run=DRY_RUN, output_ddem_after_directory=DDEMS_DIRECTORY\n",
    ")\n",
    "result_df"
   ]
  },
  {
   "cell_type": "code",
   "execution_count": null,
   "id": "ad6d907d",
   "metadata": {},
   "outputs": [],
   "source": []
  }
 ],
 "metadata": {
  "kernelspec": {
   "display_name": "history",
   "language": "python",
   "name": "python3"
  },
  "language_info": {
   "codemirror_mode": {
    "name": "ipython",
    "version": 3
   },
   "file_extension": ".py",
   "mimetype": "text/x-python",
   "name": "python",
   "nbconvert_exporter": "python",
   "pygments_lexer": "ipython3",
   "version": "3.11.13"
  }
 },
 "nbformat": 4,
 "nbformat_minor": 5
}
