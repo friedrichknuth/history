{
 "cells": [
  {
   "cell_type": "markdown",
   "id": "35bc6413",
   "metadata": {},
   "source": [
    "# Post Processing\n",
    "\n",
    "This notebook run some post processing on result point cloud. \n",
    "1. Convert point cloud to DEM with `point2dem` command from ASP.\n",
    "2. Coregister with reference DEMs.\n",
    "3. Compute difference between coregistered DEMs and references DEMs.\n",
    "4. Compute some statistics of this difference."
   ]
  },
  {
   "cell_type": "code",
   "execution_count": 1,
   "id": "69a34dc4",
   "metadata": {},
   "outputs": [],
   "source": [
    "%load_ext autoreload\n",
    "%autoreload 2"
   ]
  },
  {
   "cell_type": "code",
   "execution_count": 2,
   "id": "4e9e9a32",
   "metadata": {},
   "outputs": [
    {
     "name": "stderr",
     "output_type": "stream",
     "text": [
      "/workdir/cryodyn/dehecqa/bin/miniforge3/envs/history/lib/python3.11/site-packages/tqdm/auto.py:21: TqdmWarning: IProgress not found. Please update jupyter and ipywidgets. See https://ipywidgets.readthedocs.io/en/stable/user_install.html\n",
      "  from .autonotebook import tqdm as notebook_tqdm\n"
     ]
    }
   ],
   "source": [
    "import os\n",
    "import sys\n",
    "import history"
   ]
  },
  {
   "cell_type": "markdown",
   "id": "82e1e386",
   "metadata": {},
   "source": [
    "# For testing only"
   ]
  },
  {
   "cell_type": "markdown",
   "id": "7626d2aa",
   "metadata": {},
   "source": [
    "Temporay commands for testing:\n",
    "- create a symlink to the files needed for this notebook\n",
    "- create downsampled version of the reference DEMs"
   ]
  },
  {
   "cell_type": "code",
   "execution_count": 3,
   "id": "bb1c7f95",
   "metadata": {},
   "outputs": [
    {
     "name": "stdout",
     "output_type": "stream",
     "text": [
      "ASPY_CG_MC_PP_CN_GN_PN_MN_dense_pointcloud.laz\n",
      "casa_grande_reference_dem_zoom_10m.tif\n",
      "casa_grande_reference_dem_zoom_mask_10m.tif\n",
      "dems\n",
      "ESM_CG_AI_PP_CN_GY_PN_MN_dense_pointcloud.laz\n",
      "ESM_CG_AI_RA_CN_GY_PN_MN_dense_pointcloud.laz\n",
      "ESM_CG_AI_RA_CY_GY_PN_MN_dense_pointcloud.laz\n",
      "ESM_IL_AI_PP_CN_GY_PN_MN_dense_pointcloud.laz\n",
      "ESM_IL_AI_RA_CN_GY_PN_MN_dense_pointcloud.laz\n",
      "ESM_IL_AI_RA_CY_GY_PN_MN_dense_pointcloud.laz\n",
      "fdahle_CG_AI_PP_CN_GY_PN_MN_dense_pointcloud.laz\n",
      "fdahle_CG_AI_PP_CY_GN_PN_MN_dense_pointcloud.laz\n",
      "fdahle_CG_AI_PP_CY_GY_PN_MN_dense_pointcloud.laz\n",
      "fdahle_IL_AI_PP_CY_GN_PN_MN_dense_pointcloud.laz\n",
      "fdahle_IL_AI_PP_CY_GY_PN_MN_dense_pointcloud.laz\n",
      "HIATUS_CG_AI_PP_CY_PN_MN_dense_pointcloud.laz\n",
      "HIATUS_CG_AI_PP_CY_PN_MY_dense_pointcloud.laz\n",
      "HSfM_CG_AI_PP_CY_GY_PY_MN_dense_pointcloud.laz\n",
      "HSfM_IL_AI_PP_CY_GY_PN_MN_dense_pointcloud.laz\n",
      "JB_CG_AI_PP_CY_GN_PN_MN_dense_pointcloud.las\n",
      "JB_CG_AI_PP_CY_GN_PN_MN_sparse_pointcloud.las\n",
      "TUW_CG_AI_PP_CN_GN_PN_MN_dense_pointcloud.laz\n",
      "TUW_IL_AI_PP_CN_GN_PN_MN_dense_pointcloud.laz\n",
      "WD_CG_MC_PP_CN_GY_PY_MN_dense_pointcloud.laz\n"
     ]
    }
   ],
   "source": [
    "# !ln -fs /mnt/summer/USERS/DEHECQA/history/output/extracted/**/*dense_pointcloud.laz /mnt/summer/USERS/DEHECQA/history/output/test_data/\n",
    "!ls -1 /mnt/summer/USERS/DEHECQA/history/output/test_data/"
   ]
  },
  {
   "cell_type": "code",
   "execution_count": 4,
   "id": "2c8e068e",
   "metadata": {},
   "outputs": [],
   "source": [
    "#! gdal_translate /mnt/summer/USERS/DEHECQA/history/data_final/casa_grande/aux_data/reference_dem_zoom.tif test_data/casa_grande_reference_dem_zoom_10m.tif -tr 10 10 -r cubic\n",
    "#!gdal_translate /mnt/summer/USERS/DEHECQA/history/data_final/casa_grande/aux_data/reference_dem_zoom_mask.tif test_data/casa_grande_reference_dem_zoom_mask_10m.tif -tr 10 10 -r cubic"
   ]
  },
  {
   "cell_type": "markdown",
   "id": "22df8f07",
   "metadata": {},
   "source": [
    "# Settings"
   ]
  },
  {
   "cell_type": "code",
   "execution_count": 9,
   "id": "42fd7991",
   "metadata": {},
   "outputs": [],
   "source": [
    "# contain the .las or .laz files\n",
    "POINTCLOUD_DIRECTORY = \"/mnt/summer/USERS/DEHECQA/history/output/test_data\"\n",
    "\n",
    "# Directory where put DEMs after point2dem command\n",
    "RAW_DEM_DIRECTORY = \"/mnt/summer/USERS/DEHECQA/history/output/test_data/dems\"\n",
    "\n",
    "# Directory of coregistered DEMs\n",
    "COREGISTERED_DEM_DIRECTORY = \"/mnt/summer/USERS/DEHECQA/history/output/test_data/coregistered_dems\"\n",
    "\n",
    "# Directory of diference beetween ref DEMs and coregistered DEMs\n",
    "DDEMS_DIRECTORY = \"/mnt/summer/USERS/DEHECQA/history/output/test_data/ddems\"\n",
    "\n",
    "# dictionnary of all references DEMs (some value can be set to None depend on site and dataset)\n",
    "REF_DEMS = {\n",
    "    # \"casagrande_ref_dem_zoom\" : \"/mnt/summer/USERS/DEHECQA/history/data_final/casa_grande/aux_data/reference_dem_zoom.tif\",\n",
    "    \"casagrande_ref_dem_zoom\" : \"/mnt/summer/USERS/DEHECQA/history/output/test_data/casa_grande_reference_dem_zoom_10m.tif\",\n",
    "    \"casagrande_ref_dem_large\" : None,\n",
    "    \"iceland_ref_dem_zoom\" : None,\n",
    "    \"iceland_ref_dem_large\" : None\n",
    "}\n",
    "\n",
    "# dictionnary of all references DEMs masks (some value can be set to None depend on site and dataset)\n",
    "REF_DEM_MASKS = {\n",
    "    # \"casagrande_ref_dem_zoom_mask\" : \"/mnt/summer/USERS/DEHECQA/history/data_final/casa_grande/aux_data/reference_dem_zoom_mask.tif\",\n",
    "    \"casagrande_ref_dem_zoom_mask\" : \"/mnt/summer/USERS/DEHECQA/history/output/test_data/casa_grande_reference_dem_zoom_mask_10m.tif\",\n",
    "    \"casagrande_ref_dem_large_mask\" : None,\n",
    "    \"iceland_ref_dem_zoom_mask\" : None,\n",
    "    \"iceland_ref_dem_large_mask\" : None\n",
    "}\n",
    "\n",
    "OVERWRITE = False\n",
    "\n",
    "# set this to True to avoid process\n",
    "DRY_RUN = False\n",
    "\n",
    "MAX_WORKERS = 4"
   ]
  },
  {
   "cell_type": "markdown",
   "id": "f49fdc01",
   "metadata": {},
   "source": [
    "## Converting cloud point to DEM\n",
    "\n",
    "Batch process point cloud files in a directory to generate DEMs aligned with reference DEMs.\n",
    "\n",
    "This function iterates over all point cloud files (*.las or *.laz) in `input_directory`,\n",
    "selects the appropriate reference DEM based on site and dataset extracted from filenames,\n",
    "and calls `point2dem` to create coregistered DEMs saved in `output_directory`.\n",
    "\n",
    "The `max_workers` arg set a process for each point2dem command so for one file it's useless"
   ]
  },
  {
   "cell_type": "markdown",
   "id": "d8bdb99e",
   "metadata": {},
   "source": [
    "Different attempts to add ASP to path, without success..."
   ]
  },
  {
   "cell_type": "code",
   "execution_count": 6,
   "id": "d8ae4ab8",
   "metadata": {},
   "outputs": [],
   "source": [
    "# !module load stereo3.5.0\n",
    "# !export PATH=$PATH:/workdir2/cryodyn/dehecqa/bin/StereoPipeline-3.5.0-alpha-2025-02-18-x86_64-Linux/bin/\n",
    "# !point2dem -h\n",
    "# !echo $PATH"
   ]
  },
  {
   "cell_type": "code",
   "execution_count": 7,
   "id": "7cdf7068",
   "metadata": {},
   "outputs": [],
   "source": [
    "# import subprocess\n",
    "# subprocess.run(\"export PATH=$PATH:/workdir2/cryodyn/dehecqa/bin/StereoPipeline-3.5.0-alpha-2025-02-18-x86_64-Linux/bin/\", shell=True, check=True)\n",
    "# subprocess.run(\"echo $PATH\", shell=True, check=True)"
   ]
  },
  {
   "cell_type": "code",
   "execution_count": 14,
   "id": "69352a0b",
   "metadata": {},
   "outputs": [
    {
     "name": "stdout",
     "output_type": "stream",
     "text": [
      "Skip JB_CG_AI_PP_CY_GN_PN_MN_dense_pointcloud.las : /mnt/summer/USERS/DEHECQA/history/output/test_data/dems/JB_CG_AI_PP_CY_GN_PN_MN_dense-DEM.tif already exist.\n",
      "Skip JB_CG_AI_PP_CY_GN_PN_MN_sparse_pointcloud.las : /mnt/summer/USERS/DEHECQA/history/output/test_data/dems/JB_CG_AI_PP_CY_GN_PN_MN_sparse-DEM.tif already exist.\n",
      "Skip ASPY_CG_MC_PP_CN_GN_PN_MN_dense_pointcloud.laz : No reference DEM provided (site: CG, dataset: MC).\n",
      "Skip ESM_CG_AI_PP_CN_GY_PN_MN_dense_pointcloud.laz : /mnt/summer/USERS/DEHECQA/history/output/test_data/dems/ESM_CG_AI_PP_CN_GY_PN_MN_dense-DEM.tif already exist.\n",
      "Skip ESM_CG_AI_RA_CN_GY_PN_MN_dense_pointcloud.laz : /mnt/summer/USERS/DEHECQA/history/output/test_data/dems/ESM_CG_AI_RA_CN_GY_PN_MN_dense-DEM.tif already exist.\n",
      "Skip ESM_CG_AI_RA_CY_GY_PN_MN_dense_pointcloud.laz : /mnt/summer/USERS/DEHECQA/history/output/test_data/dems/ESM_CG_AI_RA_CY_GY_PN_MN_dense-DEM.tif already exist.\n",
      "Skip ESM_IL_AI_PP_CN_GY_PN_MN_dense_pointcloud.laz : No reference DEM provided (site: IL, dataset: AI).\n",
      "Skip ESM_IL_AI_RA_CN_GY_PN_MN_dense_pointcloud.laz : No reference DEM provided (site: IL, dataset: AI).\n",
      "Skip ESM_IL_AI_RA_CY_GY_PN_MN_dense_pointcloud.laz : No reference DEM provided (site: IL, dataset: AI).\n",
      "Skip fdahle_IL_AI_PP_CY_GN_PN_MN_dense_pointcloud.laz : No reference DEM provided (site: IL, dataset: AI).\n",
      "Skip fdahle_IL_AI_PP_CY_GY_PN_MN_dense_pointcloud.laz : No reference DEM provided (site: IL, dataset: AI).\n"
     ]
    },
    {
     "name": "stderr",
     "output_type": "stream",
     "text": [
      "Process ForkProcess-8:\n",
      "Traceback (most recent call last):\n",
      "  File \"/workdir/cryodyn/dehecqa/bin/miniforge3/envs/history/lib/python3.11/multiprocessing/process.py\", line 314, in _bootstrap\n",
      "    self.run()\n",
      "  File \"/workdir/cryodyn/dehecqa/bin/miniforge3/envs/history/lib/python3.11/multiprocessing/process.py\", line 108, in run\n",
      "    self._target(*self._args, **self._kwargs)\n",
      "  File \"/workdir/cryodyn/dehecqa/bin/miniforge3/envs/history/lib/python3.11/concurrent/futures/process.py\", line 249, in _process_worker\n",
      "    call_item = call_queue.get(block=True)\n",
      "                ^^^^^^^^^^^^^^^^^^^^^^^^^^\n",
      "  File \"/workdir/cryodyn/dehecqa/bin/miniforge3/envs/history/lib/python3.11/multiprocessing/queues.py\", line 103, in get\n",
      "    res = self._recv_bytes()\n",
      "          ^^^^^^^^^^^^^^^^^^\n",
      "  File \"/workdir/cryodyn/dehecqa/bin/miniforge3/envs/history/lib/python3.11/multiprocessing/connection.py\", line 216, in recv_bytes\n",
      "    buf = self._recv_bytes(maxlength)\n",
      "          ^^^^^^^^^^^^^^^^^^^^^^^^^^^\n",
      "  File \"/workdir/cryodyn/dehecqa/bin/miniforge3/envs/history/lib/python3.11/multiprocessing/connection.py\", line 430, in _recv_bytes\n",
      "    buf = self._recv(4)\n",
      "          ^^^^^^^^^^^^^\n",
      "  File \"/workdir/cryodyn/dehecqa/bin/miniforge3/envs/history/lib/python3.11/multiprocessing/connection.py\", line 395, in _recv\n",
      "    chunk = read(handle, remaining)\n",
      "            ^^^^^^^^^^^^^^^^^^^^^^^\n",
      "KeyboardInterrupt\n"
     ]
    },
    {
     "ename": "KeyboardInterrupt",
     "evalue": "",
     "output_type": "error",
     "traceback": [
      "\u001b[31m---------------------------------------------------------------------------\u001b[39m",
      "\u001b[31mAssertionError\u001b[39m                            Traceback (most recent call last)",
      "\u001b[36mFile \u001b[39m\u001b[32m/mnt/summer/USERS/DEHECQA/history/codes/history/src/history/postprocessing/point2dem.py:77\u001b[39m, in \u001b[36miter_point2dem\u001b[39m\u001b[34m(input_directory, output_directory, iceland_ref_dem_zoom, iceland_ref_dem_large, casagrande_ref_dem_zoom, casagrande_ref_dem_large, overwrite, dry_run, asp_path, max_workers)\u001b[39m\n\u001b[32m     76\u001b[39m \u001b[38;5;28;01mif\u001b[39;00m filename.endswith(\u001b[33m\"\u001b[39m\u001b[33m.laz\u001b[39m\u001b[33m\"\u001b[39m) \u001b[38;5;129;01mor\u001b[39;00m filename.endswith(\u001b[33m\"\u001b[39m\u001b[33m.las\u001b[39m\u001b[33m\"\u001b[39m):\n\u001b[32m---> \u001b[39m\u001b[32m77\u001b[39m     file_naming = \u001b[43mFileNaming\u001b[49m\u001b[43m(\u001b[49m\u001b[43mfilename\u001b[49m\u001b[43m)\u001b[49m\n\u001b[32m     78\u001b[39m     pointcloud_file = os.path.join(input_directory, filename)\n",
      "\u001b[36mFile \u001b[39m\u001b[32m/mnt/summer/USERS/DEHECQA/history/codes/history/src/history/postprocessing/file_naming.py:25\u001b[39m, in \u001b[36mFileNaming.__init__\u001b[39m\u001b[34m(self, file)\u001b[39m\n\u001b[32m     24\u001b[39m \u001b[38;5;28;01massert\u001b[39;00m \u001b[38;5;28mself\u001b[39m.camera_used \u001b[38;5;129;01min\u001b[39;00m [\u001b[33m\"\u001b[39m\u001b[33mCY\u001b[39m\u001b[33m\"\u001b[39m, \u001b[33m\"\u001b[39m\u001b[33mCN\u001b[39m\u001b[33m\"\u001b[39m]\n\u001b[32m---> \u001b[39m\u001b[32m25\u001b[39m \u001b[38;5;28;01massert\u001b[39;00m \u001b[38;5;28mself\u001b[39m.gcp_used \u001b[38;5;129;01min\u001b[39;00m [\u001b[33m\"\u001b[39m\u001b[33mGY\u001b[39m\u001b[33m\"\u001b[39m, \u001b[33m\"\u001b[39m\u001b[33mGN\u001b[39m\u001b[33m\"\u001b[39m]\n\u001b[32m     26\u001b[39m \u001b[38;5;28;01massert\u001b[39;00m \u001b[38;5;28mself\u001b[39m.pointcloud_coregistration \u001b[38;5;129;01min\u001b[39;00m [\u001b[33m\"\u001b[39m\u001b[33mPY\u001b[39m\u001b[33m\"\u001b[39m, \u001b[33m\"\u001b[39m\u001b[33mPN\u001b[39m\u001b[33m\"\u001b[39m]\n",
      "\u001b[31mAssertionError\u001b[39m: ",
      "\nDuring handling of the above exception, another exception occurred:\n",
      "\u001b[31mKeyboardInterrupt\u001b[39m                         Traceback (most recent call last)",
      "\u001b[36mCell\u001b[39m\u001b[36m \u001b[39m\u001b[32mIn[14]\u001b[39m\u001b[32m, line 1\u001b[39m\n\u001b[32m----> \u001b[39m\u001b[32m1\u001b[39m \u001b[43mhistory\u001b[49m\u001b[43m.\u001b[49m\u001b[43mpostprocessing\u001b[49m\u001b[43m.\u001b[49m\u001b[43miter_point2dem\u001b[49m\u001b[43m(\u001b[49m\u001b[43mPOINTCLOUD_DIRECTORY\u001b[49m\u001b[43m,\u001b[49m\u001b[43m \u001b[49m\u001b[43mRAW_DEM_DIRECTORY\u001b[49m\u001b[43m,\u001b[49m\u001b[43m \u001b[49m\u001b[43m*\u001b[49m\u001b[43m*\u001b[49m\u001b[43mREF_DEMS\u001b[49m\u001b[43m,\u001b[49m\u001b[43m \u001b[49m\u001b[43moverwrite\u001b[49m\u001b[43m=\u001b[49m\u001b[43mOVERWRITE\u001b[49m\u001b[43m,\u001b[49m\u001b[43m \u001b[49m\u001b[43mdry_run\u001b[49m\u001b[43m=\u001b[49m\u001b[43mDRY_RUN\u001b[49m\u001b[43m,\u001b[49m\u001b[43m \u001b[49m\u001b[43mmax_workers\u001b[49m\u001b[43m=\u001b[49m\u001b[43mMAX_WORKERS\u001b[49m\u001b[43m,\u001b[49m\u001b[43m \u001b[49m\u001b[43masp_path\u001b[49m\u001b[43m=\u001b[49m\u001b[33;43m\"\u001b[39;49m\u001b[33;43m/workdir2/cryodyn/dehecqa/bin/StereoPipeline-3.5.0-alpha-2025-02-18-x86_64-Linux/bin/\u001b[39;49m\u001b[33;43m\"\u001b[39;49m\u001b[43m)\u001b[49m\n",
      "\u001b[36mFile \u001b[39m\u001b[32m/mnt/summer/USERS/DEHECQA/history/codes/history/src/history/postprocessing/point2dem.py:73\u001b[39m, in \u001b[36miter_point2dem\u001b[39m\u001b[34m(input_directory, output_directory, iceland_ref_dem_zoom, iceland_ref_dem_large, casagrande_ref_dem_zoom, casagrande_ref_dem_large, overwrite, dry_run, asp_path, max_workers)\u001b[39m\n\u001b[32m     63\u001b[39m os.makedirs(output_directory, exist_ok=\u001b[38;5;28;01mTrue\u001b[39;00m)\n\u001b[32m     64\u001b[39m ref_dem_mapping = {\n\u001b[32m     65\u001b[39m     \u001b[33m\"\u001b[39m\u001b[33mCGAI\u001b[39m\u001b[33m\"\u001b[39m: casagrande_ref_dem_zoom,\n\u001b[32m     66\u001b[39m     \u001b[33m\"\u001b[39m\u001b[33mCGMC\u001b[39m\u001b[33m\"\u001b[39m: casagrande_ref_dem_large,\n\u001b[32m   (...)\u001b[39m\u001b[32m     70\u001b[39m     \u001b[33m\"\u001b[39m\u001b[33mILPC\u001b[39m\u001b[33m\"\u001b[39m: iceland_ref_dem_large\n\u001b[32m     71\u001b[39m }\n\u001b[32m---> \u001b[39m\u001b[32m73\u001b[39m \u001b[43m\u001b[49m\u001b[38;5;28;43;01mwith\u001b[39;49;00m\u001b[43m \u001b[49m\u001b[43mProcessPoolExecutor\u001b[49m\u001b[43m(\u001b[49m\u001b[43mmax_workers\u001b[49m\u001b[43m=\u001b[49m\u001b[43mmax_workers\u001b[49m\u001b[43m)\u001b[49m\u001b[43m \u001b[49m\u001b[38;5;28;43;01mas\u001b[39;49;00m\u001b[43m \u001b[49m\u001b[43mexecutor\u001b[49m\u001b[43m:\u001b[49m\n\u001b[32m     74\u001b[39m \u001b[43m    \u001b[49m\u001b[43mfutures\u001b[49m\u001b[43m \u001b[49m\u001b[43m=\u001b[49m\u001b[43m \u001b[49m\u001b[43m[\u001b[49m\u001b[43m]\u001b[49m\n\u001b[32m     75\u001b[39m \u001b[43m    \u001b[49m\u001b[38;5;28;43;01mfor\u001b[39;49;00m\u001b[43m \u001b[49m\u001b[43mfilename\u001b[49m\u001b[43m \u001b[49m\u001b[38;5;129;43;01min\u001b[39;49;00m\u001b[43m \u001b[49m\u001b[43mos\u001b[49m\u001b[43m.\u001b[49m\u001b[43mlistdir\u001b[49m\u001b[43m(\u001b[49m\u001b[43minput_directory\u001b[49m\u001b[43m)\u001b[49m\u001b[43m:\u001b[49m\n",
      "\u001b[36mFile \u001b[39m\u001b[32m/workdir/cryodyn/dehecqa/bin/miniforge3/envs/history/lib/python3.11/concurrent/futures/_base.py:647\u001b[39m, in \u001b[36mExecutor.__exit__\u001b[39m\u001b[34m(self, exc_type, exc_val, exc_tb)\u001b[39m\n\u001b[32m    646\u001b[39m \u001b[38;5;28;01mdef\u001b[39;00m\u001b[38;5;250m \u001b[39m\u001b[34m__exit__\u001b[39m(\u001b[38;5;28mself\u001b[39m, exc_type, exc_val, exc_tb):\n\u001b[32m--> \u001b[39m\u001b[32m647\u001b[39m     \u001b[38;5;28;43mself\u001b[39;49m\u001b[43m.\u001b[49m\u001b[43mshutdown\u001b[49m\u001b[43m(\u001b[49m\u001b[43mwait\u001b[49m\u001b[43m=\u001b[49m\u001b[38;5;28;43;01mTrue\u001b[39;49;00m\u001b[43m)\u001b[49m\n\u001b[32m    648\u001b[39m     \u001b[38;5;28;01mreturn\u001b[39;00m \u001b[38;5;28;01mFalse\u001b[39;00m\n",
      "\u001b[36mFile \u001b[39m\u001b[32m/workdir/cryodyn/dehecqa/bin/miniforge3/envs/history/lib/python3.11/concurrent/futures/process.py:851\u001b[39m, in \u001b[36mProcessPoolExecutor.shutdown\u001b[39m\u001b[34m(self, wait, cancel_futures)\u001b[39m\n\u001b[32m    848\u001b[39m         \u001b[38;5;28mself\u001b[39m._executor_manager_thread_wakeup.wakeup()\n\u001b[32m    850\u001b[39m \u001b[38;5;28;01mif\u001b[39;00m \u001b[38;5;28mself\u001b[39m._executor_manager_thread \u001b[38;5;129;01mis\u001b[39;00m \u001b[38;5;129;01mnot\u001b[39;00m \u001b[38;5;28;01mNone\u001b[39;00m \u001b[38;5;129;01mand\u001b[39;00m wait:\n\u001b[32m--> \u001b[39m\u001b[32m851\u001b[39m     \u001b[38;5;28;43mself\u001b[39;49m\u001b[43m.\u001b[49m\u001b[43m_executor_manager_thread\u001b[49m\u001b[43m.\u001b[49m\u001b[43mjoin\u001b[49m\u001b[43m(\u001b[49m\u001b[43m)\u001b[49m\n\u001b[32m    852\u001b[39m \u001b[38;5;66;03m# To reduce the risk of opening too many files, remove references to\u001b[39;00m\n\u001b[32m    853\u001b[39m \u001b[38;5;66;03m# objects that use file descriptors.\u001b[39;00m\n\u001b[32m    854\u001b[39m \u001b[38;5;28mself\u001b[39m._executor_manager_thread = \u001b[38;5;28;01mNone\u001b[39;00m\n",
      "\u001b[36mFile \u001b[39m\u001b[32m/workdir/cryodyn/dehecqa/bin/miniforge3/envs/history/lib/python3.11/threading.py:1119\u001b[39m, in \u001b[36mThread.join\u001b[39m\u001b[34m(self, timeout)\u001b[39m\n\u001b[32m   1116\u001b[39m     \u001b[38;5;28;01mraise\u001b[39;00m \u001b[38;5;167;01mRuntimeError\u001b[39;00m(\u001b[33m\"\u001b[39m\u001b[33mcannot join current thread\u001b[39m\u001b[33m\"\u001b[39m)\n\u001b[32m   1118\u001b[39m \u001b[38;5;28;01mif\u001b[39;00m timeout \u001b[38;5;129;01mis\u001b[39;00m \u001b[38;5;28;01mNone\u001b[39;00m:\n\u001b[32m-> \u001b[39m\u001b[32m1119\u001b[39m     \u001b[38;5;28;43mself\u001b[39;49m\u001b[43m.\u001b[49m\u001b[43m_wait_for_tstate_lock\u001b[49m\u001b[43m(\u001b[49m\u001b[43m)\u001b[49m\n\u001b[32m   1120\u001b[39m \u001b[38;5;28;01melse\u001b[39;00m:\n\u001b[32m   1121\u001b[39m     \u001b[38;5;66;03m# the behavior of a negative timeout isn't documented, but\u001b[39;00m\n\u001b[32m   1122\u001b[39m     \u001b[38;5;66;03m# historically .join(timeout=x) for x<0 has acted as if timeout=0\u001b[39;00m\n\u001b[32m   1123\u001b[39m     \u001b[38;5;28mself\u001b[39m._wait_for_tstate_lock(timeout=\u001b[38;5;28mmax\u001b[39m(timeout, \u001b[32m0\u001b[39m))\n",
      "\u001b[36mFile \u001b[39m\u001b[32m/workdir/cryodyn/dehecqa/bin/miniforge3/envs/history/lib/python3.11/threading.py:1139\u001b[39m, in \u001b[36mThread._wait_for_tstate_lock\u001b[39m\u001b[34m(self, block, timeout)\u001b[39m\n\u001b[32m   1136\u001b[39m     \u001b[38;5;28;01mreturn\u001b[39;00m\n\u001b[32m   1138\u001b[39m \u001b[38;5;28;01mtry\u001b[39;00m:\n\u001b[32m-> \u001b[39m\u001b[32m1139\u001b[39m     \u001b[38;5;28;01mif\u001b[39;00m \u001b[43mlock\u001b[49m\u001b[43m.\u001b[49m\u001b[43macquire\u001b[49m\u001b[43m(\u001b[49m\u001b[43mblock\u001b[49m\u001b[43m,\u001b[49m\u001b[43m \u001b[49m\u001b[43mtimeout\u001b[49m\u001b[43m)\u001b[49m:\n\u001b[32m   1140\u001b[39m         lock.release()\n\u001b[32m   1141\u001b[39m         \u001b[38;5;28mself\u001b[39m._stop()\n",
      "\u001b[31mKeyboardInterrupt\u001b[39m: "
     ]
    }
   ],
   "source": [
    "history.postprocessing.iter_point2dem(POINTCLOUD_DIRECTORY, RAW_DEM_DIRECTORY, **REF_DEMS, overwrite=OVERWRITE, dry_run=DRY_RUN, max_workers=MAX_WORKERS, asp_path=\"/workdir2/cryodyn/dehecqa/bin/StereoPipeline-3.5.0-alpha-2025-02-18-x86_64-Linux/bin/\")"
   ]
  },
  {
   "cell_type": "markdown",
   "id": "dfa653c3",
   "metadata": {},
   "source": [
    "## Coregister DEMs\n",
    "\n",
    "Coregister multiple DEMs in a directory to appropriate reference DEMs and return summary statistics.\n",
    "\n",
    "This function iterates over all DEM files in `input_directory` ending with '-DEM.tif', \n",
    "selects the appropriate reference DEM and mask based on the site and dataset information,\n",
    "and applies coregistration using the `coregister_dem` function. \n",
    "\n",
    "Coregistered DEMs are saved to `output_directory`. If `overwrite` is False, existing output files are skipped.\n",
    "If `dry_run` is True, no coregistration is performed, only file names and planned operations are printed."
   ]
  },
  {
   "cell_type": "code",
   "execution_count": 10,
   "id": "5fea58ff",
   "metadata": {},
   "outputs": [
    {
     "name": "stdout",
     "output_type": "stream",
     "text": [
      "coregister_dem(/mnt/summer/USERS/DEHECQA/history/output/test_data/dems/HSfM_CG_AI_PP_CY_GY_PY_MN_dense-DEM.tif, /mnt/summer/USERS/DEHECQA/history/output/test_data/casa_grande_reference_dem_zoom_10m.tif, /mnt/summer/USERS/DEHECQA/history/output/test_data/casa_grande_reference_dem_zoom_mask_10m.tif, /mnt/summer/USERS/DEHECQA/history/output/test_data/coregistered_dems/HSfM_CG_AI_PP_CY_GY_PY_MN_dense-DEM.tif)\n",
      "coregister_dem(/mnt/summer/USERS/DEHECQA/history/output/test_data/dems/JB_CG_AI_PP_CY_GN_PN_MN_sparse-DEM.tif, /mnt/summer/USERS/DEHECQA/history/output/test_data/casa_grande_reference_dem_zoom_10m.tif, /mnt/summer/USERS/DEHECQA/history/output/test_data/casa_grande_reference_dem_zoom_mask_10m.tif, /mnt/summer/USERS/DEHECQA/history/output/test_data/coregistered_dems/JB_CG_AI_PP_CY_GN_PN_MN_sparse-DEM.tif)\n"
     ]
    },
    {
     "name": "stderr",
     "output_type": "stream",
     "text": [
      "/workdir/cryodyn/dehecqa/bin/miniforge3/envs/history/lib/python3.11/site-packages/xdem/coreg/affine.py:507: RuntimeWarning: All-NaN slice encountered\n",
      "  vshift = np.nanmedian(dh_step)\n"
     ]
    },
    {
     "ename": "ValueError",
     "evalue": "The subsample contains no more valid values. This can happen is the horizontal shift to correct is very large, or if the algorithm diverged. To ensure all possible points can be used at any iteration step, use subsample=1.",
     "output_type": "error",
     "traceback": [
      "\u001b[31m---------------------------------------------------------------------------\u001b[39m",
      "\u001b[31mValueError\u001b[39m                                Traceback (most recent call last)",
      "\u001b[36mCell\u001b[39m\u001b[36m \u001b[39m\u001b[32mIn[10]\u001b[39m\u001b[32m, line 1\u001b[39m\n\u001b[32m----> \u001b[39m\u001b[32m1\u001b[39m result_df = \u001b[43mhistory\u001b[49m\u001b[43m.\u001b[49m\u001b[43mpostprocessing\u001b[49m\u001b[43m.\u001b[49m\u001b[43miter_coregister_dems\u001b[49m\u001b[43m(\u001b[49m\n\u001b[32m      2\u001b[39m \u001b[43m    \u001b[49m\u001b[43mRAW_DEM_DIRECTORY\u001b[49m\u001b[43m,\u001b[49m\u001b[43m \u001b[49m\u001b[43mCOREGISTERED_DEM_DIRECTORY\u001b[49m\u001b[43m,\u001b[49m\u001b[43m \u001b[49m\n\u001b[32m      3\u001b[39m \u001b[43m    \u001b[49m\u001b[43m*\u001b[49m\u001b[43m*\u001b[49m\u001b[43mREF_DEMS\u001b[49m\u001b[43m,\u001b[49m\u001b[43m \u001b[49m\u001b[43m*\u001b[49m\u001b[43m*\u001b[49m\u001b[43mREF_DEM_MASKS\u001b[49m\u001b[43m,\u001b[49m\u001b[43m \u001b[49m\u001b[43moverwrite\u001b[49m\u001b[43m=\u001b[49m\u001b[43mOVERWRITE\u001b[49m\u001b[43m,\u001b[49m\u001b[43m \u001b[49m\u001b[43mdry_run\u001b[49m\u001b[43m=\u001b[49m\u001b[43mDRY_RUN\u001b[49m\u001b[43m,\u001b[49m\u001b[43m \u001b[49m\u001b[43moutput_ddem_after_directory\u001b[49m\u001b[43m=\u001b[49m\u001b[43mDDEMS_DIRECTORY\u001b[49m\n\u001b[32m      4\u001b[39m \u001b[43m)\u001b[49m\n\u001b[32m      5\u001b[39m result_df\n",
      "\u001b[36mFile \u001b[39m\u001b[32m/mnt/summer/USERS/DEHECQA/history/codes/history/src/history/postprocessing/coregistration.py:119\u001b[39m, in \u001b[36miter_coregister_dems\u001b[39m\u001b[34m(input_directory, output_directory, output_ddem_before_directory, output_ddem_after_directory, iceland_ref_dem_zoom, iceland_ref_dem_large, casagrande_ref_dem_zoom, casagrande_ref_dem_large, iceland_ref_dem_zoom_mask, iceland_ref_dem_large_mask, casagrande_ref_dem_zoom_mask, casagrande_ref_dem_large_mask, overwrite, dry_run)\u001b[39m\n\u001b[32m    117\u001b[39m         \u001b[38;5;28mprint\u001b[39m(\u001b[33mf\u001b[39m\u001b[33m\"\u001b[39m\u001b[33mcoregister_dem(\u001b[39m\u001b[38;5;132;01m{\u001b[39;00mdem_path\u001b[38;5;132;01m}\u001b[39;00m\u001b[33m, \u001b[39m\u001b[38;5;132;01m{\u001b[39;00mref_dem_path\u001b[38;5;132;01m}\u001b[39;00m\u001b[33m, \u001b[39m\u001b[38;5;132;01m{\u001b[39;00mref_dem_mask_path\u001b[38;5;132;01m}\u001b[39;00m\u001b[33m, \u001b[39m\u001b[38;5;132;01m{\u001b[39;00moutput_dem_path\u001b[38;5;132;01m}\u001b[39;00m\u001b[33m)\u001b[39m\u001b[33m\"\u001b[39m)\n\u001b[32m    118\u001b[39m         \u001b[38;5;28;01mif\u001b[39;00m \u001b[38;5;129;01mnot\u001b[39;00m dry_run:\n\u001b[32m--> \u001b[39m\u001b[32m119\u001b[39m             s = \u001b[43mcoregister_dem\u001b[49m\u001b[43m(\u001b[49m\u001b[43mdem_path\u001b[49m\u001b[43m,\u001b[49m\u001b[43m \u001b[49m\u001b[43mref_dem_path\u001b[49m\u001b[43m,\u001b[49m\u001b[43m \u001b[49m\u001b[43mref_dem_mask_path\u001b[49m\u001b[43m,\u001b[49m\u001b[43m \u001b[49m\u001b[43moutput_dem_path\u001b[49m\u001b[43m,\u001b[49m\u001b[43m \u001b[49m\u001b[43moutput_ddem_before_path\u001b[49m\u001b[43m,\u001b[49m\u001b[43m \u001b[49m\u001b[43moutput_ddem_after_path\u001b[49m\u001b[43m)\u001b[49m\n\u001b[32m    120\u001b[39m             series.append(s)\n\u001b[32m    122\u001b[39m \u001b[38;5;28;01mreturn\u001b[39;00m pd.DataFrame(series)\n",
      "\u001b[36mFile \u001b[39m\u001b[32m/mnt/summer/USERS/DEHECQA/history/codes/history/src/history/postprocessing/coregistration.py:197\u001b[39m, in \u001b[36mcoregister_dem\u001b[39m\u001b[34m(dem_path, ref_dem_path, ref_dem_mask_path, output_dem_path, output_ddem_before_path, output_ddem_after_path)\u001b[39m\n\u001b[32m    195\u001b[39m coreg_hori = xdem.coreg.NuthKaab(vertical_shift=\u001b[38;5;28;01mFalse\u001b[39;00m)\n\u001b[32m    196\u001b[39m coreg_vert = xdem.coreg.VerticalShift(vshift_reduc_func=np.median)\n\u001b[32m--> \u001b[39m\u001b[32m197\u001b[39m dem_coreg_tmp = \u001b[43mcoreg_hori\u001b[49m\u001b[43m.\u001b[49m\u001b[43mfit_and_apply\u001b[49m\u001b[43m(\u001b[49m\u001b[43mdem_ref\u001b[49m\u001b[43m,\u001b[49m\u001b[43m \u001b[49m\u001b[43mdem\u001b[49m\u001b[43m,\u001b[49m\u001b[43m \u001b[49m\u001b[43minlier_mask\u001b[49m\u001b[43m=\u001b[49m\u001b[43minlier_mask\u001b[49m\u001b[43m)\u001b[49m\n\u001b[32m    198\u001b[39m dem_coreg = coreg_vert.fit_and_apply(dem_ref, dem_coreg_tmp, inlier_mask=inlier_mask)\n\u001b[32m    200\u001b[39m \u001b[38;5;66;03m# save coregistration shift\u001b[39;00m\n",
      "\u001b[36mFile \u001b[39m\u001b[32m/workdir/cryodyn/dehecqa/bin/miniforge3/envs/history/lib/python3.11/site-packages/xdem/coreg/base.py:2392\u001b[39m, in \u001b[36mCoreg.fit_and_apply\u001b[39m\u001b[34m(self, reference_elev, to_be_aligned_elev, inlier_mask, bias_vars, weights, subsample, transform, crs, area_or_point, z_name, resample, resampling, random_state, fit_kwargs, apply_kwargs)\u001b[39m\n\u001b[32m   2389\u001b[39m \u001b[38;5;28;01mif\u001b[39;00m apply_kwargs \u001b[38;5;129;01mis\u001b[39;00m \u001b[38;5;28;01mNone\u001b[39;00m:\n\u001b[32m   2390\u001b[39m     apply_kwargs = {}\n\u001b[32m-> \u001b[39m\u001b[32m2392\u001b[39m \u001b[38;5;28;43mself\u001b[39;49m\u001b[43m.\u001b[49m\u001b[43mfit\u001b[49m\u001b[43m(\u001b[49m\n\u001b[32m   2393\u001b[39m \u001b[43m    \u001b[49m\u001b[43mreference_elev\u001b[49m\u001b[43m=\u001b[49m\u001b[43mreference_elev\u001b[49m\u001b[43m,\u001b[49m\n\u001b[32m   2394\u001b[39m \u001b[43m    \u001b[49m\u001b[43mto_be_aligned_elev\u001b[49m\u001b[43m=\u001b[49m\u001b[43mto_be_aligned_elev\u001b[49m\u001b[43m,\u001b[49m\n\u001b[32m   2395\u001b[39m \u001b[43m    \u001b[49m\u001b[43minlier_mask\u001b[49m\u001b[43m=\u001b[49m\u001b[43minlier_mask\u001b[49m\u001b[43m,\u001b[49m\n\u001b[32m   2396\u001b[39m \u001b[43m    \u001b[49m\u001b[43mbias_vars\u001b[49m\u001b[43m=\u001b[49m\u001b[43mbias_vars\u001b[49m\u001b[43m,\u001b[49m\n\u001b[32m   2397\u001b[39m \u001b[43m    \u001b[49m\u001b[43mweights\u001b[49m\u001b[43m=\u001b[49m\u001b[43mweights\u001b[49m\u001b[43m,\u001b[49m\n\u001b[32m   2398\u001b[39m \u001b[43m    \u001b[49m\u001b[43msubsample\u001b[49m\u001b[43m=\u001b[49m\u001b[43msubsample\u001b[49m\u001b[43m,\u001b[49m\n\u001b[32m   2399\u001b[39m \u001b[43m    \u001b[49m\u001b[43mtransform\u001b[49m\u001b[43m=\u001b[49m\u001b[43mtransform\u001b[49m\u001b[43m,\u001b[49m\n\u001b[32m   2400\u001b[39m \u001b[43m    \u001b[49m\u001b[43mcrs\u001b[49m\u001b[43m=\u001b[49m\u001b[43mcrs\u001b[49m\u001b[43m,\u001b[49m\n\u001b[32m   2401\u001b[39m \u001b[43m    \u001b[49m\u001b[43marea_or_point\u001b[49m\u001b[43m=\u001b[49m\u001b[43marea_or_point\u001b[49m\u001b[43m,\u001b[49m\n\u001b[32m   2402\u001b[39m \u001b[43m    \u001b[49m\u001b[43mz_name\u001b[49m\u001b[43m=\u001b[49m\u001b[43mz_name\u001b[49m\u001b[43m,\u001b[49m\n\u001b[32m   2403\u001b[39m \u001b[43m    \u001b[49m\u001b[43mrandom_state\u001b[49m\u001b[43m=\u001b[49m\u001b[43mrandom_state\u001b[49m\u001b[43m,\u001b[49m\n\u001b[32m   2404\u001b[39m \u001b[43m    \u001b[49m\u001b[43m*\u001b[49m\u001b[43m*\u001b[49m\u001b[43mfit_kwargs\u001b[49m\u001b[43m,\u001b[49m\n\u001b[32m   2405\u001b[39m \u001b[43m\u001b[49m\u001b[43m)\u001b[49m\n\u001b[32m   2407\u001b[39m aligned_dem = \u001b[38;5;28mself\u001b[39m.apply(\n\u001b[32m   2408\u001b[39m     elev=to_be_aligned_elev,\n\u001b[32m   2409\u001b[39m     bias_vars=bias_vars,\n\u001b[32m   (...)\u001b[39m\u001b[32m   2415\u001b[39m     **apply_kwargs,\n\u001b[32m   2416\u001b[39m )\n\u001b[32m   2418\u001b[39m \u001b[38;5;28;01mreturn\u001b[39;00m aligned_dem\n",
      "\u001b[36mFile \u001b[39m\u001b[32m/workdir/cryodyn/dehecqa/bin/miniforge3/envs/history/lib/python3.11/site-packages/xdem/coreg/base.py:2176\u001b[39m, in \u001b[36mCoreg.fit\u001b[39m\u001b[34m(self, reference_elev, to_be_aligned_elev, inlier_mask, bias_vars, weights, subsample, transform, crs, area_or_point, z_name, random_state, **kwargs)\u001b[39m\n\u001b[32m   2172\u001b[39m     main_args.update({\u001b[33m\"\u001b[39m\u001b[33mbias_vars\u001b[39m\u001b[33m\"\u001b[39m: bias_vars})\n\u001b[32m   2174\u001b[39m \u001b[38;5;66;03m# Run the associated fitting function, which has fallback logic for \"raster-raster\", \"raster-point\" or\u001b[39;00m\n\u001b[32m   2175\u001b[39m \u001b[38;5;66;03m# \"point-point\" depending on what is available for a certain Coreg function\u001b[39;00m\n\u001b[32m-> \u001b[39m\u001b[32m2176\u001b[39m \u001b[38;5;28;43mself\u001b[39;49m\u001b[43m.\u001b[49m\u001b[43m_fit_func\u001b[49m\u001b[43m(\u001b[49m\n\u001b[32m   2177\u001b[39m \u001b[43m    \u001b[49m\u001b[43m*\u001b[49m\u001b[43m*\u001b[49m\u001b[43mmain_args\u001b[49m\u001b[43m,\u001b[49m\n\u001b[32m   2178\u001b[39m \u001b[43m    \u001b[49m\u001b[43m*\u001b[49m\u001b[43m*\u001b[49m\u001b[43mkwargs\u001b[49m\u001b[43m,\u001b[49m\n\u001b[32m   2179\u001b[39m \u001b[43m\u001b[49m\u001b[43m)\u001b[49m\n\u001b[32m   2181\u001b[39m \u001b[38;5;66;03m# Flag that the fitting function has been called.\u001b[39;00m\n\u001b[32m   2182\u001b[39m \u001b[38;5;28mself\u001b[39m._fit_called = \u001b[38;5;28;01mTrue\u001b[39;00m\n",
      "\u001b[36mFile \u001b[39m\u001b[32m/workdir/cryodyn/dehecqa/bin/miniforge3/envs/history/lib/python3.11/site-packages/xdem/coreg/base.py:2592\u001b[39m, in \u001b[36mCoreg._fit_func\u001b[39m\u001b[34m(self, **kwargs)\u001b[39m\n\u001b[32m   2589\u001b[39m \u001b[38;5;28;01mif\u001b[39;00m rop == \u001b[33m\"\u001b[39m\u001b[33mr-r\u001b[39m\u001b[33m\"\u001b[39m:\n\u001b[32m   2590\u001b[39m     \u001b[38;5;66;03m# Check if raster-raster function exists, if yes run it and stop\u001b[39;00m\n\u001b[32m   2591\u001b[39m     \u001b[38;5;28;01mtry\u001b[39;00m:\n\u001b[32m-> \u001b[39m\u001b[32m2592\u001b[39m         \u001b[38;5;28;43mself\u001b[39;49m\u001b[43m.\u001b[49m\u001b[43m_fit_rst_rst\u001b[49m\u001b[43m(\u001b[49m\u001b[43m*\u001b[49m\u001b[43m*\u001b[49m\u001b[43mkwargs\u001b[49m\u001b[43m)\u001b[49m\n\u001b[32m   2593\u001b[39m     \u001b[38;5;66;03m# Otherwise, convert the tba raster to points and try raster-points\u001b[39;00m\n\u001b[32m   2594\u001b[39m     \u001b[38;5;28;01mexcept\u001b[39;00m NotImplementedCoregFit:\n",
      "\u001b[36mFile \u001b[39m\u001b[32m/workdir/cryodyn/dehecqa/bin/miniforge3/envs/history/lib/python3.11/site-packages/xdem/coreg/affine.py:2443\u001b[39m, in \u001b[36mNuthKaab._fit_rst_rst\u001b[39m\u001b[34m(self, ref_elev, tba_elev, inlier_mask, transform, crs, area_or_point, z_name, weights, bias_vars, **kwargs)\u001b[39m\n\u001b[32m   2440\u001b[39m \u001b[38;5;250m\u001b[39m\u001b[33;03m\"\"\"Estimate the x/y/z offset between two DEMs.\"\"\"\u001b[39;00m\n\u001b[32m   2442\u001b[39m \u001b[38;5;66;03m# Method is the same for 2D or 1D elevation differences, so we can simply re-direct to fit_rst_pts\u001b[39;00m\n\u001b[32m-> \u001b[39m\u001b[32m2443\u001b[39m \u001b[38;5;28;43mself\u001b[39;49m\u001b[43m.\u001b[49m\u001b[43m_fit_rst_pts\u001b[49m\u001b[43m(\u001b[49m\n\u001b[32m   2444\u001b[39m \u001b[43m    \u001b[49m\u001b[43mref_elev\u001b[49m\u001b[43m=\u001b[49m\u001b[43mref_elev\u001b[49m\u001b[43m,\u001b[49m\n\u001b[32m   2445\u001b[39m \u001b[43m    \u001b[49m\u001b[43mtba_elev\u001b[49m\u001b[43m=\u001b[49m\u001b[43mtba_elev\u001b[49m\u001b[43m,\u001b[49m\n\u001b[32m   2446\u001b[39m \u001b[43m    \u001b[49m\u001b[43minlier_mask\u001b[49m\u001b[43m=\u001b[49m\u001b[43minlier_mask\u001b[49m\u001b[43m,\u001b[49m\n\u001b[32m   2447\u001b[39m \u001b[43m    \u001b[49m\u001b[43mtransform\u001b[49m\u001b[43m=\u001b[49m\u001b[43mtransform\u001b[49m\u001b[43m,\u001b[49m\n\u001b[32m   2448\u001b[39m \u001b[43m    \u001b[49m\u001b[43mcrs\u001b[49m\u001b[43m=\u001b[49m\u001b[43mcrs\u001b[49m\u001b[43m,\u001b[49m\n\u001b[32m   2449\u001b[39m \u001b[43m    \u001b[49m\u001b[43marea_or_point\u001b[49m\u001b[43m=\u001b[49m\u001b[43marea_or_point\u001b[49m\u001b[43m,\u001b[49m\n\u001b[32m   2450\u001b[39m \u001b[43m    \u001b[49m\u001b[43mz_name\u001b[49m\u001b[43m=\u001b[49m\u001b[43mz_name\u001b[49m\u001b[43m,\u001b[49m\n\u001b[32m   2451\u001b[39m \u001b[43m    \u001b[49m\u001b[43mweights\u001b[49m\u001b[43m=\u001b[49m\u001b[43mweights\u001b[49m\u001b[43m,\u001b[49m\n\u001b[32m   2452\u001b[39m \u001b[43m    \u001b[49m\u001b[43mbias_vars\u001b[49m\u001b[43m=\u001b[49m\u001b[43mbias_vars\u001b[49m\u001b[43m,\u001b[49m\n\u001b[32m   2453\u001b[39m \u001b[43m    \u001b[49m\u001b[43m*\u001b[49m\u001b[43m*\u001b[49m\u001b[43mkwargs\u001b[49m\u001b[43m,\u001b[49m\n\u001b[32m   2454\u001b[39m \u001b[43m\u001b[49m\u001b[43m)\u001b[49m\n",
      "\u001b[36mFile \u001b[39m\u001b[32m/workdir/cryodyn/dehecqa/bin/miniforge3/envs/history/lib/python3.11/site-packages/xdem/coreg/affine.py:2478\u001b[39m, in \u001b[36mNuthKaab._fit_rst_pts\u001b[39m\u001b[34m(self, ref_elev, tba_elev, inlier_mask, transform, crs, area_or_point, z_name, weights, bias_vars, **kwargs)\u001b[39m\n\u001b[32m   2475\u001b[39m params_fit_or_bin = \u001b[38;5;28mself\u001b[39m._meta[\u001b[33m\"\u001b[39m\u001b[33minputs\u001b[39m\u001b[33m\"\u001b[39m][\u001b[33m\"\u001b[39m\u001b[33mfitorbin\u001b[39m\u001b[33m\"\u001b[39m]\n\u001b[32m   2477\u001b[39m \u001b[38;5;66;03m# Call method\u001b[39;00m\n\u001b[32m-> \u001b[39m\u001b[32m2478\u001b[39m (easting_offset, northing_offset, vertical_offset), subsample_final = \u001b[43mnuth_kaab\u001b[49m\u001b[43m(\u001b[49m\n\u001b[32m   2479\u001b[39m \u001b[43m    \u001b[49m\u001b[43mref_elev\u001b[49m\u001b[43m=\u001b[49m\u001b[43mref_elev\u001b[49m\u001b[43m,\u001b[49m\n\u001b[32m   2480\u001b[39m \u001b[43m    \u001b[49m\u001b[43mtba_elev\u001b[49m\u001b[43m=\u001b[49m\u001b[43mtba_elev\u001b[49m\u001b[43m,\u001b[49m\n\u001b[32m   2481\u001b[39m \u001b[43m    \u001b[49m\u001b[43minlier_mask\u001b[49m\u001b[43m=\u001b[49m\u001b[43minlier_mask\u001b[49m\u001b[43m,\u001b[49m\n\u001b[32m   2482\u001b[39m \u001b[43m    \u001b[49m\u001b[43mtransform\u001b[49m\u001b[43m=\u001b[49m\u001b[43mtransform\u001b[49m\u001b[43m,\u001b[49m\n\u001b[32m   2483\u001b[39m \u001b[43m    \u001b[49m\u001b[43mcrs\u001b[49m\u001b[43m=\u001b[49m\u001b[43mcrs\u001b[49m\u001b[43m,\u001b[49m\n\u001b[32m   2484\u001b[39m \u001b[43m    \u001b[49m\u001b[43marea_or_point\u001b[49m\u001b[43m=\u001b[49m\u001b[43marea_or_point\u001b[49m\u001b[43m,\u001b[49m\n\u001b[32m   2485\u001b[39m \u001b[43m    \u001b[49m\u001b[43mz_name\u001b[49m\u001b[43m=\u001b[49m\u001b[43mz_name\u001b[49m\u001b[43m,\u001b[49m\n\u001b[32m   2486\u001b[39m \u001b[43m    \u001b[49m\u001b[43mweights\u001b[49m\u001b[43m=\u001b[49m\u001b[43mweights\u001b[49m\u001b[43m,\u001b[49m\n\u001b[32m   2487\u001b[39m \u001b[43m    \u001b[49m\u001b[43mparams_random\u001b[49m\u001b[43m=\u001b[49m\u001b[43mparams_random\u001b[49m\u001b[43m,\u001b[49m\n\u001b[32m   2488\u001b[39m \u001b[43m    \u001b[49m\u001b[43mparams_fit_or_bin\u001b[49m\u001b[43m=\u001b[49m\u001b[43mparams_fit_or_bin\u001b[49m\u001b[43m,\u001b[49m\n\u001b[32m   2489\u001b[39m \u001b[43m    \u001b[49m\u001b[43mmax_iterations\u001b[49m\u001b[43m=\u001b[49m\u001b[38;5;28;43mself\u001b[39;49m\u001b[43m.\u001b[49m\u001b[43m_meta\u001b[49m\u001b[43m[\u001b[49m\u001b[33;43m\"\u001b[39;49m\u001b[33;43minputs\u001b[39;49m\u001b[33;43m\"\u001b[39;49m\u001b[43m]\u001b[49m\u001b[43m[\u001b[49m\u001b[33;43m\"\u001b[39;49m\u001b[33;43miterative\u001b[39;49m\u001b[33;43m\"\u001b[39;49m\u001b[43m]\u001b[49m\u001b[43m[\u001b[49m\u001b[33;43m\"\u001b[39;49m\u001b[33;43mmax_iterations\u001b[39;49m\u001b[33;43m\"\u001b[39;49m\u001b[43m]\u001b[49m\u001b[43m,\u001b[49m\n\u001b[32m   2490\u001b[39m \u001b[43m    \u001b[49m\u001b[43mtolerance\u001b[49m\u001b[43m=\u001b[49m\u001b[38;5;28;43mself\u001b[39;49m\u001b[43m.\u001b[49m\u001b[43m_meta\u001b[49m\u001b[43m[\u001b[49m\u001b[33;43m\"\u001b[39;49m\u001b[33;43minputs\u001b[39;49m\u001b[33;43m\"\u001b[39;49m\u001b[43m]\u001b[49m\u001b[43m[\u001b[49m\u001b[33;43m\"\u001b[39;49m\u001b[33;43miterative\u001b[39;49m\u001b[33;43m\"\u001b[39;49m\u001b[43m]\u001b[49m\u001b[43m[\u001b[49m\u001b[33;43m\"\u001b[39;49m\u001b[33;43mtolerance\u001b[39;49m\u001b[33;43m\"\u001b[39;49m\u001b[43m]\u001b[49m\u001b[43m,\u001b[49m\n\u001b[32m   2491\u001b[39m \u001b[43m\u001b[49m\u001b[43m)\u001b[49m\n\u001b[32m   2493\u001b[39m \u001b[38;5;66;03m# Write output to class\u001b[39;00m\n\u001b[32m   2494\u001b[39m \u001b[38;5;66;03m# (Mypy does not pass with normal dict, requires \"OutAffineDict\" here for some reason...)\u001b[39;00m\n\u001b[32m   2495\u001b[39m output_affine = OutAffineDict(\n\u001b[32m   2496\u001b[39m     shift_x=-easting_offset, shift_y=-northing_offset, shift_z=vertical_offset * \u001b[38;5;28mself\u001b[39m.vertical_shift\n\u001b[32m   2497\u001b[39m )\n",
      "\u001b[36mFile \u001b[39m\u001b[32m/workdir/cryodyn/dehecqa/bin/miniforge3/envs/history/lib/python3.11/site-packages/xdem/coreg/affine.py:604\u001b[39m, in \u001b[36mnuth_kaab\u001b[39m\u001b[34m(ref_elev, tba_elev, inlier_mask, transform, crs, area_or_point, tolerance, max_iterations, params_fit_or_bin, params_random, z_name, weights, **kwargs)\u001b[39m\n\u001b[32m    602\u001b[39m \u001b[38;5;28;01massert\u001b[39;00m sub_aux_vars \u001b[38;5;129;01mis\u001b[39;00m \u001b[38;5;129;01mnot\u001b[39;00m \u001b[38;5;28;01mNone\u001b[39;00m  \u001b[38;5;66;03m# Mypy: dictionary cannot be None here\u001b[39;00m\n\u001b[32m    603\u001b[39m constant_inputs = (sub_dh_interpolator, sub_aux_vars[\u001b[33m\"\u001b[39m\u001b[33mslope_tan\u001b[39m\u001b[33m\"\u001b[39m], sub_aux_vars[\u001b[33m\"\u001b[39m\u001b[33maspect\u001b[39m\u001b[33m\"\u001b[39m], res, params_fit_or_bin)\n\u001b[32m--> \u001b[39m\u001b[32m604\u001b[39m final_offsets = \u001b[43m_iterate_method\u001b[49m\u001b[43m(\u001b[49m\n\u001b[32m    605\u001b[39m \u001b[43m    \u001b[49m\u001b[43mmethod\u001b[49m\u001b[43m=\u001b[49m\u001b[43m_nuth_kaab_iteration_step\u001b[49m\u001b[43m,\u001b[49m\n\u001b[32m    606\u001b[39m \u001b[43m    \u001b[49m\u001b[43miterating_input\u001b[49m\u001b[43m=\u001b[49m\u001b[43minitial_offset\u001b[49m\u001b[43m,\u001b[49m\n\u001b[32m    607\u001b[39m \u001b[43m    \u001b[49m\u001b[43mconstant_inputs\u001b[49m\u001b[43m=\u001b[49m\u001b[43mconstant_inputs\u001b[49m\u001b[43m,\u001b[49m\n\u001b[32m    608\u001b[39m \u001b[43m    \u001b[49m\u001b[43mtolerance\u001b[49m\u001b[43m=\u001b[49m\u001b[43mtolerance\u001b[49m\u001b[43m,\u001b[49m\n\u001b[32m    609\u001b[39m \u001b[43m    \u001b[49m\u001b[43mmax_iterations\u001b[49m\u001b[43m=\u001b[49m\u001b[43mmax_iterations\u001b[49m\u001b[43m,\u001b[49m\n\u001b[32m    610\u001b[39m \u001b[43m\u001b[49m\u001b[43m)\u001b[49m\n\u001b[32m    612\u001b[39m \u001b[38;5;28;01mreturn\u001b[39;00m final_offsets, subsample_final\n",
      "\u001b[36mFile \u001b[39m\u001b[32m/workdir/cryodyn/dehecqa/bin/miniforge3/envs/history/lib/python3.11/site-packages/xdem/coreg/affine.py:138\u001b[39m, in \u001b[36m_iterate_method\u001b[39m\u001b[34m(method, iterating_input, constant_inputs, tolerance, max_iterations)\u001b[39m\n\u001b[32m    133\u001b[39m pbar = trange(max_iterations, disable=logging.getLogger().getEffectiveLevel() > logging.INFO, desc=\u001b[33m\"\u001b[39m\u001b[33m   Progress\u001b[39m\u001b[33m\"\u001b[39m)\n\u001b[32m    134\u001b[39m \u001b[38;5;28;01mfor\u001b[39;00m i \u001b[38;5;129;01min\u001b[39;00m pbar:\n\u001b[32m    135\u001b[39m \n\u001b[32m    136\u001b[39m     \u001b[38;5;66;03m# Apply method and get new statistic to compare to tolerance, new inputs for next iterations, and\u001b[39;00m\n\u001b[32m    137\u001b[39m     \u001b[38;5;66;03m# outputs in case this is the final one\u001b[39;00m\n\u001b[32m--> \u001b[39m\u001b[32m138\u001b[39m     new_inputs, new_statistic = \u001b[43mmethod\u001b[49m\u001b[43m(\u001b[49m\u001b[43mnew_inputs\u001b[49m\u001b[43m,\u001b[49m\u001b[43m \u001b[49m\u001b[43m*\u001b[49m\u001b[43mconstant_inputs\u001b[49m\u001b[43m)\u001b[49m\n\u001b[32m    140\u001b[39m     \u001b[38;5;66;03m# Print final results\u001b[39;00m\n\u001b[32m    141\u001b[39m     \u001b[38;5;66;03m# TODO: Allow to pass a string to _iterate_method on how to print/describe exactly the iterating input\u001b[39;00m\n\u001b[32m    142\u001b[39m     \u001b[38;5;28;01mif\u001b[39;00m logging.getLogger().getEffectiveLevel() <= logging.INFO:\n",
      "\u001b[36mFile \u001b[39m\u001b[32m/workdir/cryodyn/dehecqa/bin/miniforge3/envs/history/lib/python3.11/site-packages/xdem/coreg/affine.py:514\u001b[39m, in \u001b[36m_nuth_kaab_iteration_step\u001b[39m\u001b[34m(coords_offsets, dh_interpolator, slope_tan, aspect, res, params_fit_bin)\u001b[39m\n\u001b[32m    512\u001b[39m mask_valid = np.isfinite(dh_step)\n\u001b[32m    513\u001b[39m \u001b[38;5;28;01mif\u001b[39;00m np.count_nonzero(mask_valid) == \u001b[32m0\u001b[39m:\n\u001b[32m--> \u001b[39m\u001b[32m514\u001b[39m     \u001b[38;5;28;01mraise\u001b[39;00m \u001b[38;5;167;01mValueError\u001b[39;00m(\n\u001b[32m    515\u001b[39m         \u001b[33m\"\u001b[39m\u001b[33mThe subsample contains no more valid values. This can happen is the horizontal shift to \u001b[39m\u001b[33m\"\u001b[39m\n\u001b[32m    516\u001b[39m         \u001b[33m\"\u001b[39m\u001b[33mcorrect is very large, or if the algorithm diverged. To ensure all possible points can \u001b[39m\u001b[33m\"\u001b[39m\n\u001b[32m    517\u001b[39m         \u001b[33m\"\u001b[39m\u001b[33mbe used at any iteration step, use subsample=1.\u001b[39m\u001b[33m\"\u001b[39m\n\u001b[32m    518\u001b[39m     )\n\u001b[32m    519\u001b[39m dh_step = dh_step[mask_valid]\n\u001b[32m    520\u001b[39m slope_tan = slope_tan[mask_valid]\n",
      "\u001b[31mValueError\u001b[39m: The subsample contains no more valid values. This can happen is the horizontal shift to correct is very large, or if the algorithm diverged. To ensure all possible points can be used at any iteration step, use subsample=1."
     ]
    }
   ],
   "source": [
    "result_df = history.postprocessing.iter_coregister_dems(\n",
    "    RAW_DEM_DIRECTORY, COREGISTERED_DEM_DIRECTORY, \n",
    "    **REF_DEMS, **REF_DEM_MASKS, overwrite=OVERWRITE, dry_run=DRY_RUN, output_ddem_after_directory=DDEMS_DIRECTORY\n",
    ")\n",
    "result_df"
   ]
  },
  {
   "cell_type": "code",
   "execution_count": null,
   "id": "ad6d907d",
   "metadata": {},
   "outputs": [],
   "source": []
  }
 ],
 "metadata": {
  "kernelspec": {
   "display_name": "history",
   "language": "python",
   "name": "python3"
  },
  "language_info": {
   "codemirror_mode": {
    "name": "ipython",
    "version": 3
   },
   "file_extension": ".py",
   "mimetype": "text/x-python",
   "name": "python",
   "nbconvert_exporter": "python",
   "pygments_lexer": "ipython3",
   "version": "3.11.13"
  }
 },
 "nbformat": 4,
 "nbformat_minor": 5
}
