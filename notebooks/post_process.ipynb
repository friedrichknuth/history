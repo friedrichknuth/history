{
 "cells": [
  {
   "cell_type": "markdown",
   "id": "35bc6413",
   "metadata": {},
   "source": [
    "# Post Processing\n",
    "\n",
    "This notebook run some post processing on result point cloud. \n",
    "1. Convert point cloud to DEM with `point2dem` command from ASP\n",
    "2. Coregister with reference DEM"
   ]
  },
  {
   "cell_type": "code",
   "execution_count": 3,
   "id": "69a34dc4",
   "metadata": {},
   "outputs": [],
   "source": [
    "%load_ext autoreload\n",
    "%autoreload 2"
   ]
  },
  {
   "cell_type": "code",
   "execution_count": 4,
   "id": "4e9e9a32",
   "metadata": {},
   "outputs": [],
   "source": [
    "import os\n",
    "import sys\n",
    "import history"
   ]
  },
  {
   "cell_type": "markdown",
   "id": "22df8f07",
   "metadata": {},
   "source": [
    "# Settings"
   ]
  },
  {
   "cell_type": "code",
   "execution_count": null,
   "id": "42fd7991",
   "metadata": {},
   "outputs": [],
   "source": [
    "POINTCLOUD_DIRECTORY = \"/home/godinlu/github/history/dev/testset/pointclouds\"\n",
    "RAW_DEM_DIRECTORY = \"/home/godinlu/github/history/dev/testset/raw_dems\"\n",
    "COREGISTERED_DEM_DIRECTORY = \"/home/godinlu/github/history/dev/testset/coregistered_dems\"\n",
    "DDEMS_DIRECTORY = \"/home/godinlu/github/history/dev/testset/ddems\"\n",
    "\n",
    "\n",
    "REF_DEMS = {\n",
    "    \"casagrande_ref_dem_zoom\" : \"/home/godinlu/github/history/dev/testset/ref_dems/cg_reference_dem_zoom_10m.tif\",\n",
    "    \"casagrande_ref_dem_large\" : None,\n",
    "    \"iceland_ref_dem_zoom\" : None,\n",
    "    \"iceland_ref_dem_large\" : None\n",
    "}\n",
    "\n",
    "REF_DEM_MASKS = {\n",
    "    \"casagrande_ref_dem_zoom_mask\" : \"/home/godinlu/github/history/dev/testset/ref_dems/cg_reference_dem_zoom_mask_10m.tif\",\n",
    "    \"casagrande_ref_dem_large_mask\" : None,\n",
    "    \"iceland_ref_dem_zoom_mask\" : None,\n",
    "    \"iceland_ref_dem_large_mask\" : None\n",
    "}\n",
    "\n",
    "OVERWRITE = False\n",
    "\n",
    "# set this to True to avoid process\n",
    "DRY_RUN = False "
   ]
  },
  {
   "cell_type": "markdown",
   "id": "f49fdc01",
   "metadata": {},
   "source": [
    "## Converting cloud point to DEM\n",
    "\n",
    "Batch process point cloud files in a directory to generate DEMs aligned with reference DEMs.\n",
    "\n",
    "This function iterates over all point cloud files (*.las or *.laz) in `input_directory`,\n",
    "selects the appropriate reference DEM based on site and dataset extracted from filenames,\n",
    "and calls `point2dem` to create coregistered DEMs saved in `output_directory`."
   ]
  },
  {
   "cell_type": "code",
   "execution_count": null,
   "id": "69352a0b",
   "metadata": {},
   "outputs": [],
   "source": [
    "history.postprocessing.iter_point2dem(POINTCLOUD_DIRECTORY, RAW_DEM_DIRECTORY, **REF_DEMS, overwrite=OVERWRITE, dry_run=DRY_RUN)"
   ]
  },
  {
   "cell_type": "markdown",
   "id": "dfa653c3",
   "metadata": {},
   "source": [
    "## Coregister DEMs\n",
    "\n",
    "Coregister multiple DEMs in a directory to appropriate reference DEMs and return summary statistics.\n",
    "\n",
    "This function iterates over all DEM files in `input_directory` ending with '-DEM.tif', \n",
    "selects the appropriate reference DEM and mask based on the site and dataset information,\n",
    "and applies coregistration using the `coregister_dem` function. \n",
    "\n",
    "Coregistered DEMs are saved to `output_directory`. If `overwrite` is False, existing output files are skipped.\n",
    "If `dry_run` is True, no coregistration is performed, only file names and planned operations are printed."
   ]
  },
  {
   "cell_type": "code",
   "execution_count": 5,
   "id": "5fea58ff",
   "metadata": {},
   "outputs": [],
   "source": [
    "result_df = history.postprocessing.iter_coregister_dems(\n",
    "    RAW_DEM_DIRECTORY, COREGISTERED_DEM_DIRECTORY, \n",
    "    **REF_DEMS, **REF_DEM_MASKS, overwrite=OVERWRITE, dry_run=DRY_RUN, output_ddem_after_directory=DDEMS_DIRECTORY\n",
    ")\n",
    "result_df"
   ]
  }
 ],
 "metadata": {
  "kernelspec": {
   "display_name": "Python 3 (ipykernel)",
   "language": "python",
   "name": "python3"
  }
 },
 "nbformat": 4,
 "nbformat_minor": 5
}
