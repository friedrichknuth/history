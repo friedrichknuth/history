{
 "cells": [
  {
   "cell_type": "markdown",
   "id": "35bc6413",
   "metadata": {},
   "source": [
    "# Post Processing\n",
    "\n",
    "This notebook run some post processing on result point cloud. \n",
    "1. Convert point cloud to DEM with `point2dem` command from ASP\n",
    "2. Coregister with reference DEM"
   ]
  },
  {
   "cell_type": "code",
   "execution_count": null,
   "id": "69a34dc4",
   "metadata": {},
   "outputs": [],
   "source": [
    "%load_ext autoreload\n",
    "%autoreload 2"
   ]
  },
  {
   "cell_type": "code",
   "execution_count": null,
   "id": "4e9e9a32",
   "metadata": {},
   "outputs": [],
   "source": [
    "import os\n",
    "import sys\n",
    "\n",
    "sys.path.append(os.path.abspath(\"../src/\"))\n",
    "from history.postprocessing.point2dem import iter_point2dem\n"
   ]
  },
  {
   "cell_type": "markdown",
   "id": "22df8f07",
   "metadata": {},
   "source": [
    "# Settings"
   ]
  },
  {
   "cell_type": "code",
   "execution_count": null,
   "id": "42fd7991",
   "metadata": {},
   "outputs": [],
   "source": [
    "POINTCLOUD_DIRECTORY = \"path/to/raw/pointcloud\"\n",
    "DEM_DIRECTORY = \"path/to/dem/directory\"\n",
    "COREGISTERED_DEM_DIRECTORY = \"path/to/coregistered/dem/directory\"\n",
    "\n",
    "REF_DEMS = {\n",
    "    \"casagrande_ref_dem_zoom\" : \"exemple-dem.tif\",\n",
    "    \"casagrande_ref_dem_large\" : \"exemple-dem.tif\",\n",
    "    \"iceland_ref_dem_zoom\" : \"exemple-dem.tif\",\n",
    "    \"iceland_ref_dem_large\" : \"exemple-dem.tif\"\n",
    "}\n",
    "\n",
    "OVERWRITE = False\n",
    "DRY_RUN = False"
   ]
  },
  {
   "cell_type": "markdown",
   "id": "f49fdc01",
   "metadata": {},
   "source": [
    "## Converting cloud point to DEM\n",
    "\n",
    "the function `iter_point2dem` will create a DEM for each file in the `input_directory`. The file need to follow a naming convention such as : \"ASPY_CG_MC_PP_CN_GN_PN_MN_dense_pointcloud\". Both format are accepted `las` and `laz` ."
   ]
  },
  {
   "cell_type": "code",
   "execution_count": null,
   "id": "69352a0b",
   "metadata": {},
   "outputs": [],
   "source": [
    "iter_point2dem(POINTCLOUD_DIRECTORY, DEM_DIRECTORY, **REF_DEMS, overwrite=OVERWRITE, dry_run=DRY_RUN)\n"
   ]
  }
 ],
 "metadata": {
  "kernelspec": {
   "display_name": "history",
   "language": "python",
   "name": "python3"
  },
  "language_info": {
   "codemirror_mode": {
    "name": "ipython",
    "version": 3
   },
   "file_extension": ".py",
   "mimetype": "text/x-python",
   "name": "python",
   "nbconvert_exporter": "python",
   "pygments_lexer": "ipython3",
   "version": "3.11.13"
  }
 },
 "nbformat": 4,
 "nbformat_minor": 5
}
