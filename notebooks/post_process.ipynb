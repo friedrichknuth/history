{
 "cells": [
  {
   "cell_type": "markdown",
   "id": "35bc6413",
   "metadata": {},
   "source": [
    "# Post Processing\n",
    "\n",
    "This notebook run some post processing on result point cloud. \n",
    "1. Convert point cloud to DEM with `point2dem` command from ASP\n",
    "2. Coregister with reference DEM"
   ]
  },
  {
   "cell_type": "code",
   "execution_count": 3,
   "id": "69a34dc4",
   "metadata": {},
   "outputs": [],
   "source": [
    "%load_ext autoreload\n",
    "%autoreload 2"
   ]
  },
  {
   "cell_type": "code",
   "execution_count": 4,
   "id": "4e9e9a32",
   "metadata": {},
   "outputs": [],
   "source": [
    "import os\n",
    "import sys\n",
    "import history"
   ]
  },
  {
   "cell_type": "markdown",
   "id": "22df8f07",
   "metadata": {},
   "source": [
    "# Settings"
   ]
  },
  {
   "cell_type": "code",
   "execution_count": null,
   "id": "42fd7991",
   "metadata": {},
   "outputs": [],
   "source": [
    "POINTCLOUD_DIRECTORY = \"/mnt/summer/USERS/DEHECQA/history/output/raw\"\n",
    "DEM_DIRECTORY = \"/home/godinlu/github/history/dev/postprocessed\"\n",
    "COREGISTERED_DEM_DIRECTORY = \"/home/godinlu/github/history/dev/dem\"\n",
    "\n",
    "REF_DEMS = {\n",
    "    \"casagrande_ref_dem_zoom\" : \"/mnt/summer/USERS/DEHECQA/history/data_final/casa_grande/aux_data/reference_dem_zoom.tif\",\n",
    "    \"casagrande_ref_dem_large\" : \"/mnt/summer/USERS/DEHECQA/history/data_final/casa_grande/aux_data/reference_dem_large.tif\",\n",
    "    \"iceland_ref_dem_zoom\" : \"/mnt/summer/USERS/DEHECQA/history/data_final/iceland/aux_data/reference_dem_zoom.tif\",\n",
    "    \"iceland_ref_dem_large\" : \"/mnt/summer/USERS/DEHECQA/history/data_final/iceland/aux_data/reference_dem_large.tif\"\n",
    "}\n",
    "\n",
    "REF_DEM_MASKS = {\n",
    "    \"casagrande_ref_dem_zoom_mask\" : \"/mnt/summer/USERS/DEHECQA/history/data_final/casa_grande/aux_data/reference_dem_zoom_mask.tif\",\n",
    "    \"casagrande_ref_dem_large_mask\" : \"/mnt/summer/USERS/DEHECQA/history/data_final/casa_grande/aux_data/reference_dem_large_mask.tif\",\n",
    "    \"iceland_ref_dem_zoom_mask\" : \"/mnt/summer/USERS/DEHECQA/history/data_final/iceland/aux_data/reference_dem_zoom_mask.tif\",\n",
    "    \"iceland_ref_dem_large_mask\" : \"/mnt/summer/USERS/DEHECQA/history/data_final/iceland/aux_data/reference_dem_large_mask.tif\"\n",
    "}\n",
    "\n",
    "OVERWRITE = False\n",
    "\n",
    "# set this to False to process\n",
    "DRY_RUN = True "
   ]
  },
  {
   "cell_type": "markdown",
   "id": "f49fdc01",
   "metadata": {},
   "source": [
    "## Converting cloud point to DEM\n",
    "\n",
    "the function `iter_point2dem` will create a DEM for each file in the `input_directory`. The file need to follow a naming convention such as : \"ASPY_CG_MC_PP_CN_GN_PN_MN_dense_pointcloud\". Both format are accepted `las` and `laz` ."
   ]
  },
  {
   "cell_type": "code",
   "execution_count": null,
   "id": "69352a0b",
   "metadata": {},
   "outputs": [],
   "source": [
    "history.postprocessing.iter_point2dem(POINTCLOUD_DIRECTORY, DEM_DIRECTORY, **REF_DEMS, overwrite=OVERWRITE, dry_run=DRY_RUN)"
   ]
  },
  {
   "cell_type": "code",
   "execution_count": 5,
   "id": "5fea58ff",
   "metadata": {},
   "outputs": [],
   "source": [
    "history.postprocessing.iter_coregister_dems(DEM_DIRECTORY, COREGISTERED_DEM_DIRECTORY, **REF_DEMS, **REF_DEM_MASKS, dry_run=True)"
   ]
  }
 ],
 "metadata": {
  "kernelspec": {
   "display_name": "Python 3 (ipykernel)",
   "language": "python",
   "name": "python3"
  }
 },
 "nbformat": 4,
 "nbformat_minor": 5
}
