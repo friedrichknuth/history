{
 "cells": [
  {
   "cell_type": "markdown",
   "id": "35bc6413",
   "metadata": {},
   "source": [
    "# Post Processing\n",
    "\n",
    "This notebook run some post processing on result point cloud. \n",
    "1. Convert point cloud to DEM with `point2dem` command from ASP.\n",
    "2. Coregister with reference DEMs.\n",
    "3. Compute difference between coregistered DEMs and references DEMs.\n",
    "4. Compute some statistics of this difference."
   ]
  },
  {
   "cell_type": "code",
   "execution_count": null,
   "id": "69a34dc4",
   "metadata": {},
   "outputs": [],
   "source": [
    "%load_ext autoreload\n",
    "%autoreload 2"
   ]
  },
  {
   "cell_type": "code",
   "execution_count": null,
   "id": "4e9e9a32",
   "metadata": {},
   "outputs": [],
   "source": [
    "import os\n",
    "import sys\n",
    "import history"
   ]
  },
  {
   "cell_type": "markdown",
   "id": "22df8f07",
   "metadata": {},
   "source": [
    "# Settings"
   ]
  },
  {
   "cell_type": "code",
   "execution_count": null,
   "id": "42fd7991",
   "metadata": {},
   "outputs": [],
   "source": [
    "# contain the .las or .laz files\n",
    "POINTCLOUD_DIRECTORY = \"/home/godinlu/github/history/dev/testset/pointclouds\"\n",
    "\n",
    "# Directory where put DEMs after point2dem command\n",
    "RAW_DEM_DIRECTORY = \"/home/godinlu/github/history/dev/testset/raw_dems\"\n",
    "\n",
    "# Directory of coregistered DEMs\n",
    "COREGISTERED_DEM_DIRECTORY = \"/home/godinlu/github/history/dev/testset/coregistered_dems\"\n",
    "\n",
    "# Directory of diference beetween ref DEMs and coregistered DEMs\n",
    "DDEMS_DIRECTORY = \"/home/godinlu/github/history/dev/testset/ddems\"\n",
    "\n",
    "# dictionnary of all references DEMs (some value can be set to None depend on site and dataset)\n",
    "REF_DEMS = {\n",
    "    \"casagrande_ref_dem_zoom\" : \"/home/godinlu/github/history/dev/testset/ref_dems/cg_reference_dem_zoom_10m.tif\",\n",
    "    \"casagrande_ref_dem_large\" : None,\n",
    "    \"iceland_ref_dem_zoom\" : None,\n",
    "    \"iceland_ref_dem_large\" : None\n",
    "}\n",
    "\n",
    "# dictionnary of all references DEMs masks (some value can be set to None depend on site and dataset)\n",
    "REF_DEM_MASKS = {\n",
    "    \"casagrande_ref_dem_zoom_mask\" : \"/home/godinlu/github/history/dev/testset/ref_dems/cg_reference_dem_zoom_mask_10m.tif\",\n",
    "    \"casagrande_ref_dem_large_mask\" : None,\n",
    "    \"iceland_ref_dem_zoom_mask\" : None,\n",
    "    \"iceland_ref_dem_large_mask\" : None\n",
    "}\n",
    "\n",
    "OVERWRITE = False\n",
    "\n",
    "# set this to True to avoid process\n",
    "DRY_RUN = False \n",
    "\n",
    "MAX_WORKERS = 5"
   ]
  },
  {
   "cell_type": "markdown",
   "id": "f49fdc01",
   "metadata": {},
   "source": [
    "## Converting cloud point to DEM\n",
    "\n",
    "Batch process point cloud files in a directory to generate DEMs aligned with reference DEMs.\n",
    "\n",
    "This function iterates over all point cloud files (*.las or *.laz) in `input_directory`,\n",
    "selects the appropriate reference DEM based on site and dataset extracted from filenames,\n",
    "and calls `point2dem` to create coregistered DEMs saved in `output_directory`.\n",
    "\n",
    "The `max_workers` arg set a process for each point2dem command so for one file it's useless"
   ]
  },
  {
   "cell_type": "code",
   "execution_count": null,
   "id": "69352a0b",
   "metadata": {},
   "outputs": [
    {
     "data": {
      "application/vnd.jupyter.widget-view+json": {
       "model_id": "c5350b6f37fd484a9ed039cafd0a4fd7",
       "version_major": 2,
       "version_minor": 0
      },
      "text/plain": [
       "Converting into DEM:   0%|          | 0/1 [00:00<?, ?File/s]"
      ]
     },
     "metadata": {},
     "output_type": "display_data"
    }
   ],
   "source": [
    "history.postprocessing.iter_point2dem(POINTCLOUD_DIRECTORY, RAW_DEM_DIRECTORY, **REF_DEMS, overwrite=OVERWRITE, dry_run=DRY_RUN, max_workers=MAX_WORKERS)"
   ]
  },
  {
   "cell_type": "markdown",
   "id": "dfa653c3",
   "metadata": {},
   "source": [
    "## Coregister DEMs\n",
    "\n",
    "Coregister multiple DEMs in a directory to appropriate reference DEMs and return summary statistics.\n",
    "\n",
    "This function iterates over all DEM files in `input_directory` ending with '-DEM.tif', \n",
    "selects the appropriate reference DEM and mask based on the site and dataset information,\n",
    "and applies coregistration using the `coregister_dem` function. \n",
    "\n",
    "Coregistered DEMs are saved to `output_directory`. If `overwrite` is False, existing output files are skipped.\n",
    "If `dry_run` is True, no coregistration is performed, only file names and planned operations are printed."
   ]
  },
  {
   "cell_type": "code",
   "execution_count": 6,
   "id": "5fea58ff",
   "metadata": {},
   "outputs": [
    {
     "name": "stdout",
     "output_type": "stream",
     "text": [
      "Skip JB_CG_AI_PP_CY_GN_PN_MN_dense-DEM.tif : /home/godinlu/github/history/dev/testset/coregistered_dems/JB_CG_AI_PP_CY_GN_PN_MN_dense-DEM.tif already exist.\n"
     ]
    },
    {
     "data": {
      "text/html": [
       "<div>\n",
       "<style scoped>\n",
       "    .dataframe tbody tr th:only-of-type {\n",
       "        vertical-align: middle;\n",
       "    }\n",
       "\n",
       "    .dataframe tbody tr th {\n",
       "        vertical-align: top;\n",
       "    }\n",
       "\n",
       "    .dataframe thead th {\n",
       "        text-align: right;\n",
       "    }\n",
       "</style>\n",
       "<table border=\"1\" class=\"dataframe\">\n",
       "  <thead>\n",
       "    <tr style=\"text-align: right;\">\n",
       "      <th></th>\n",
       "    </tr>\n",
       "  </thead>\n",
       "  <tbody>\n",
       "  </tbody>\n",
       "</table>\n",
       "</div>"
      ],
      "text/plain": [
       "Empty DataFrame\n",
       "Columns: []\n",
       "Index: []"
      ]
     },
     "execution_count": 6,
     "metadata": {},
     "output_type": "execute_result"
    }
   ],
   "source": [
    "result_df = history.postprocessing.iter_coregister_dems(\n",
    "    RAW_DEM_DIRECTORY, COREGISTERED_DEM_DIRECTORY, \n",
    "    **REF_DEMS, **REF_DEM_MASKS, overwrite=OVERWRITE, dry_run=DRY_RUN, output_ddem_after_directory=DDEMS_DIRECTORY\n",
    ")\n",
    "result_df"
   ]
  }
 ],
 "metadata": {
  "kernelspec": {
   "display_name": "Python 3 (ipykernel)",
   "language": "python",
   "name": "python3"
  },
  "language_info": {
   "codemirror_mode": {
    "name": "ipython",
    "version": 3
   },
   "file_extension": ".py",
   "mimetype": "text/x-python",
   "name": "python",
   "nbconvert_exporter": "python",
   "pygments_lexer": "ipython3",
   "version": "3.11.13"
  }
 },
 "nbformat": 4,
 "nbformat_minor": 5
}
