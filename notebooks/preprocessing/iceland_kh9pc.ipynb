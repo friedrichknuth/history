{
 "cells": [
  {
   "cell_type": "markdown",
   "id": "9ffa0689",
   "metadata": {},
   "source": [
    "# Iceland KH-9 Panoramic Camera preprocessing"
   ]
  },
  {
   "cell_type": "code",
   "execution_count": null,
   "id": "431be80c",
   "metadata": {},
   "outputs": [],
   "source": [
    "import hipp\n",
    "import os"
   ]
  },
  {
   "cell_type": "markdown",
   "id": "aeead233",
   "metadata": {},
   "source": [
    "## Settings"
   ]
  },
  {
   "cell_type": "code",
   "execution_count": null,
   "id": "e5671cdb",
   "metadata": {},
   "outputs": [],
   "source": [
    "# path settings\n",
    "PROJECT_DIRECTORY = \"data/iceland/kh9_pc_images/1980_08_22\"\n",
    "RAW_IMAGES_DIRECTORY = os.path.join(PROJECT_DIRECTORY, \"raw_images\")\n",
    "PREPROCESSED_IMAGES_DIRECTORY = os.path.join(PROJECT_DIRECTORY, \"preprocessed_images\")\n",
    "JOINED_IMAGES_DIRECTORY = os.path.join(PROJECT_DIRECTORY, \"joined_images\")\n",
    "CROPPING_BORDERS_FILE = os.path.join(PROJECT_DIRECTORY, \"cropping_borders.csv\")\n",
    "\n",
    "# others settings\n",
    "QUICKVIEWS_FACTOR = 0.05\n",
    "MAX_WORKERS = 8"
   ]
  },
  {
   "cell_type": "markdown",
   "id": "fdfed723",
   "metadata": {},
   "source": [
    "## Downloading the dataset\n",
    "\n",
    "| Dataset Name | Date | Images Count | Preprocess Notebook | Raw images acces| Preprocessed images size | Raw images size|\n",
    "|--|--|--|--|--|--|--|\n",
    "| Casa Grande KH-9 PC | 1978/03/25 | 6 |here| USGS | 43 Go | 47 Go |\n"
   ]
  },
  {
   "cell_type": "code",
   "execution_count": null,
   "id": "90461aac",
   "metadata": {},
   "outputs": [],
   "source": [
    "if not os.path.exists(RAW_IMAGES_DIRECTORY):\n",
    "    !wget -c -r -np -nd -A \"*.tif\" -P {RAW_IMAGES_DIRECTORY} https://ftp.lmi.is/.stm/joaquin/history/iceland/kh9_pc_images/\n",
    "    hipp.tools.generate_quickviews(RAW_IMAGES_DIRECTORY, QUICKVIEWS_FACTOR, max_workers=MAX_WORKERS)\n",
    "else:\n",
    "    print(f\"{RAW_IMAGES_DIRECTORY} already exists, skipping download.\")"
   ]
  },
  {
   "cell_type": "markdown",
   "id": "8160ef7c",
   "metadata": {},
   "source": [
    "## Step 2 : Joining Images\n",
    "\n",
    "The first step of the preprocessing pipeline is to **join multiple image tiles** into a single, continuous image. This process is necessary because **KH9 PC images are typically split into 10-12 separate parts**, each approximately **1 GB in size**, due to their large original resolution.\n",
    "\n",
    "However, **joining these image parts is not straightforward**, primarily because there is a **slight overlap between adjacent tiles**. \n",
    "\n",
    "To accurately reconstruct the full image, we need to perform the following steps:\n",
    "\n",
    "1. **Detect keypoints (interest points)** along the **right border** of the first image part.\n",
    "2. Detect corresponding keypoints along the **left border** of the next image part.\n",
    "3. **Match these keypoints** using a feature-matching algorithm to find candidate correspondences.\n",
    "4. Use **RANSAC (Random Sample Consensus)** to filter out mismatched or erroneous correspondences (i.e., outliers).\n",
    "5. Estimate a **relative geometric transformation** (typically a translation or affine transform) to correctly align the second image with the first.\n",
    "6. Apply this transformation and **merge the two parts** into a larger composite image.\n",
    "\n",
    "This process is repeated sequentially for all image parts, progressively building up the full image mosaic.\n",
    "\n",
    "To perform that 2 functions exists:\n",
    "- `join_images_asp` (recommanded) : which will use [`image_mosaic`](https://stereopipeline.readthedocs.io/en/latest/tools/image_mosaic.html) program from Ames Stereo Pipeline. This function is much more safer but it requiered to install ASP and the command need to be visible in your path.\n",
    "- `join_images` (beta) : is a pure Python implementation that replicates the same processing steps, but currently lacks blending in overlapping regions.\n"
   ]
  },
  {
   "cell_type": "code",
   "execution_count": null,
   "id": "c557ed69",
   "metadata": {},
   "outputs": [],
   "source": [
    "# this version use image_mosaic from asp, So you need to have asp in your path\n",
    "hipp.kh9pc.join_images_asp(RAW_IMAGES_DIRECTORY, JOINED_IMAGES_DIRECTORY)"
   ]
  },
  {
   "cell_type": "markdown",
   "id": "7a0d1270",
   "metadata": {},
   "source": [
    "## Step 3 : Define manualy all cropping points\n",
    "\n",
    "The function `hipp.kh9pc.select_all_cropping_points` allow you to manually select corners of the region of interest.\n",
    "- Split each image with 5 x 20 blocks (parameters `grid_shape`)\n",
    "- open each corners block in an interactive window where you can Ctrl + Click on the corner\n",
    "- save all results in the csv file (`csv_file`)\n",
    "\n",
    "**Note** :\n",
    "- This function dont overwrite existing data in the csv file (if existing)"
   ]
  },
  {
   "cell_type": "code",
   "execution_count": null,
   "id": "4a917aa1",
   "metadata": {},
   "outputs": [],
   "source": [
    "hipp.kh9pc.select_all_cropping_points(JOINED_IMAGES_DIRECTORY, CROPPING_BORDERS_FILE)"
   ]
  },
  {
   "cell_type": "markdown",
   "id": "4db68f8d",
   "metadata": {},
   "source": [
    "## Step 4 : Cropping image to remove borders\n",
    "\n",
    "With the previously generated cropping points, we can use the `hipp.kh9pc.crop_images` to finish the preprocessing.\n",
    "For each image in the input directory, this function looks up its corresponding cropping points in the CSV file, rotates the image to align the top edge, crops it accordingly, and saves the result in the output directory.\n",
    "\n",
    "**Note :**\n",
    "\n",
    "- Images will have different size according to their coresponding croppings points\n"
   ]
  },
  {
   "cell_type": "code",
   "execution_count": null,
   "id": "36b5f86a",
   "metadata": {},
   "outputs": [],
   "source": [
    "hipp.kh9pc.crop_images(JOINED_IMAGES_DIRECTORY, CROPPING_BORDERS_FILE, PREPROCESSED_IMAGES_DIRECTORY)\n",
    "hipp.tools.generate_quickviews(PREPROCESSED_IMAGES_DIRECTORY, QUICKVIEWS_FACTOR)"
   ]
  }
 ],
 "metadata": {
  "kernelspec": {
   "display_name": "Python (hipp)",
   "language": "python",
   "name": "hipp"
  },
  "language_info": {
   "codemirror_mode": {
    "name": "ipython",
    "version": 3
   },
   "file_extension": ".py",
   "mimetype": "text/x-python",
   "name": "python",
   "nbconvert_exporter": "python",
   "pygments_lexer": "ipython3",
   "version": "3.12.2"
  }
 },
 "nbformat": 4,
 "nbformat_minor": 5
}
