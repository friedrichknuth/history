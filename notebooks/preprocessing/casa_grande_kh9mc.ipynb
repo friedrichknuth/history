{
 "cells": [
  {
   "cell_type": "markdown",
   "id": "77653c3c",
   "metadata": {},
   "source": [
    "# Casa Grande KH-9 Mapping Camera preprocessing\n"
   ]
  },
  {
   "cell_type": "code",
   "execution_count": 3,
   "id": "52a21eb2",
   "metadata": {},
   "outputs": [],
   "source": [
    "import usgsxplore\n",
    "import os\n",
    "import hipp\n",
    "import geopandas as gpd"
   ]
  },
  {
   "cell_type": "markdown",
   "id": "9025ba56",
   "metadata": {},
   "source": [
    "## Settings"
   ]
  },
  {
   "cell_type": "code",
   "execution_count": 2,
   "id": "aa59d22f",
   "metadata": {},
   "outputs": [],
   "source": [
    "# path settings\n",
    "PROJECT_DIRECTORY = \"data/casa_grande/kh9_mc_images/1978_03_25\"\n",
    "RAW_IMAGES_DIRECTORY = os.path.join(PROJECT_DIRECTORY, \"raw_images\")\n",
    "PREPROCESSED_IMAGES_DIRECTORY = os.path.join(PROJECT_DIRECTORY, \"preprocessed_images\")\n",
    "\n",
    "# others settings\n",
    "QUICKVIEWS_FACTOR = 0.10"
   ]
  },
  {
   "cell_type": "code",
   "execution_count": null,
   "id": "26016336",
   "metadata": {},
   "outputs": [],
   "source": [
    "username = os.getenv(\"USGS_USERNAME\") or input(\"Enter your USGS username: \")\n",
    "token = os.getenv(\"USGS_TOKEN\") or input(\"Enter your USGS token: \")\n",
    "\n",
    "gdf = gpd.read_file(os.path.join(PROJECT_DIRECTORY, \"images_footprint.geojson\"))\n",
    "entity_ids = gdf[\"Entity ID\"].to_list()\n",
    "\n",
    "# connect to the API, download raw images and logout\n",
    "api = usgsxplore.API(username, token)\n",
    "api.download(\"declassii\", entity_ids, output_dir=RAW_IMAGES_DIRECTORY)\n",
    "api.logout()\n",
    "\n",
    "hipp.tools.optimize_geotifs(RAW_IMAGES_DIRECTORY)\n",
    "hipp.tools.generate_quickviews(RAW_IMAGES_DIRECTORY, QUICKVIEWS_FACTOR, max_workers=8)"
   ]
  },
  {
   "cell_type": "markdown",
   "id": "6cccb669",
   "metadata": {},
   "source": [
    "## Preprocessing with ASPy\n",
    "\n",
    "IMPORTANT : this part is not reproducable cause the pipeline is private. But if you have the code in your machine and you have setup the conda environement you can follow this guide to preprocess the data"
   ]
  },
  {
   "cell_type": "markdown",
   "id": "f2a9c39d",
   "metadata": {},
   "source": [
    "```bash\n",
    "# activate your aspy conda environment\n",
    "conda activate aspy\n",
    "\n",
    "cd {PROJECT_DIRECTORY}\n",
    "\n",
    "# create the preprocessing project\n",
    "aspy create preproc\n",
    "\n",
    "# create sym link to access the raw_images without moving them\n",
    "for img in raw_images/*.tif; do ln -s \"$PWD/$img\" preproc/data/; done\n",
    "\n",
    "# create sym link to acces the geojson file to avoid modifying the config\n",
    "ln -s $PWD/images_footprint.geojson preproc/metadata.gpkg\n",
    "\n",
    "# create an text file with all ids that will be preprocessed\n",
    "echo -e \"DZB1214-500055L004001\\nDZB1214-500055L005001\\nDZB1214-500055L006001\\nDZB1214-500055L007001\" > preproc/ids.txt\n",
    "\n",
    "# go the preproc directory\n",
    "cd preproc\n",
    "\n",
    "# start the preprocessing\n",
    "aspy preproc\n",
    "```"
   ]
  },
  {
   "cell_type": "code",
   "execution_count": null,
   "id": "71631514",
   "metadata": {},
   "outputs": [],
   "source": [
    "!mkdir -p {PREPROCESSED_IMAGES_DIRECTORY}\n",
    "!mv {PROJECT_DIRECTORY}/preproc/output/*/*_final.tif {PREPROCESSED_IMAGES_DIRECTORY}"
   ]
  },
  {
   "cell_type": "code",
   "execution_count": null,
   "id": "99df9c29",
   "metadata": {},
   "outputs": [],
   "source": [
    "hipp.tools.generate_quickviews(PREPROCESSED_IMAGES_DIRECTORY, QUICKVIEWS_FACTOR, max_workers=8)\n"
   ]
  }
 ],
 "metadata": {
  "kernelspec": {
   "display_name": "Python (hipp)",
   "language": "python",
   "name": "hipp"
  },
  "language_info": {
   "codemirror_mode": {
    "name": "ipython",
    "version": 3
   },
   "file_extension": ".py",
   "mimetype": "text/x-python",
   "name": "python",
   "nbconvert_exporter": "python",
   "pygments_lexer": "ipython3",
   "version": "3.12.2"
  }
 },
 "nbformat": 4,
 "nbformat_minor": 5
}
